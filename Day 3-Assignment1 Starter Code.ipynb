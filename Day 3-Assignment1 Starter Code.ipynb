{
 "cells": [
  {
   "cell_type": "code",
   "execution_count": 1,
   "id": "c404d459-b07f-4ebc-a503-ac7e8eb524bb",
   "metadata": {},
   "outputs": [],
   "source": [
    "import requests \n",
    "from bs4 import BeautifulSoup \n",
    "import pandas as pd"
   ]
  },
  {
   "cell_type": "code",
   "execution_count": 2,
   "id": "7958bade-06ee-4fee-b393-ec010716a30a",
   "metadata": {},
   "outputs": [],
   "source": [
    "URL = \"https://homeshopping.pk/categories/Mobile-Phones-Price-Pakistan/\"\n",
    "r = requests.get(URL) "
   ]
  },
  {
   "cell_type": "code",
   "execution_count": 7,
   "id": "4c2774bb-7b74-4d76-91d2-a73ed78478ef",
   "metadata": {},
   "outputs": [],
   "source": [
    "soup = BeautifulSoup(r.content, 'html.parser')"
   ]
  },
  {
   "cell_type": "code",
   "execution_count": 11,
   "id": "7cac9c6a-33e6-42f5-8604-6eaf95e2e78b",
   "metadata": {},
   "outputs": [],
   "source": [
    "divs  = soup.find('div', class_= 'row ProductsList').findAll('div',class_='innerp')"
   ]
  },
  {
   "cell_type": "code",
   "execution_count": 12,
   "id": "46028816-4561-427a-b520-0284231120ed",
   "metadata": {},
   "outputs": [
    {
     "data": {
      "text/plain": [
       "<div class=\"innerp product-box Odd product_349435\">\n",
       "<figure>\n",
       "<a href=\"https://homeshopping.pk/products/Tecno-Spark-Go-2024-64GB-Magic-Skin-Price-in-Pakistan.html\">\n",
       "<img class=\"img-responsive imgcent lazy\" data-src=\"https://cdn.homeshopping.pk/product_images/s/691/Tecno-Spark-Go-2024-Magic-Skin-1__85207_thumb.png\" src=\"https://homeshopping.pk/templates/ResGarden/images/ProgressiveLoadingIcon.gif\"/></a>\n",
       "<div style=\"display: none\">\n",
       "<img class=\"outofstk\" src=\"https://cdn.homeshopping.pk/templates/ResGarden/images/out-of-stock.png\"/>\n",
       "</div>\n",
       "<div style=\"display: none\">\n",
       "<img class=\"outofstk\" src=\"https://cdn.homeshopping.pk/templates/ResGarden/images/coming-soon.png\"/>\n",
       "</div>\n",
       "<a href=\"https://homeshopping.pk/wishlist.php?action=add&amp;product_id=349435&amp;variation_id=\">\n",
       "<i class=\"icon icon-heart fav\"></i>\n",
       "</a>\n",
       "</figure>\n",
       "<div class=\"padx8 padt24 padb16\">\n",
       "<h5 class=\"ProductDetails\">\n",
       "<a class=\"\" href=\"https://homeshopping.pk/products/Tecno-Spark-Go-2024-64GB-Magic-Skin-Price-in-Pakistan.html\">Tecno Spark Go 2024 (4G 4GB 64GB Magic Skin) With Official Warranty</a>\n",
       "</h5>\n",
       "<div class=\"deal_tag_sold_count\" data-total_sold=\"0\" style=\"background-image: url('https://cdn.homeshopping.pk/templates/ResGarden/images/tag_red.png'); display: none;\">\n",
       "<span class=\"total_sold_count count_349435\" data-product_id=\"349435\">0</span>\n",
       "<span class=\"sold_count_label\">Sold</span>\n",
       "</div>\n",
       "<div class=\"col-md-12 col-xs-12 p0\">\n",
       "<a class=\"price\" href=\"https://homeshopping.pk/products/Tecno-Spark-Go-2024-64GB-Magic-Skin-Price-in-Pakistan.html\"><div class=\"ActualPrice\"> Rs 23,999</div></a>\n",
       "</div>\n",
       "</div>\n",
       "</div>"
      ]
     },
     "execution_count": 12,
     "metadata": {},
     "output_type": "execute_result"
    }
   ],
   "source": [
    "divs[0]"
   ]
  },
  {
   "cell_type": "code",
   "execution_count": 16,
   "id": "5214853f-3a24-4ffd-a629-165bc30209b9",
   "metadata": {},
   "outputs": [
    {
     "data": {
      "text/plain": [
       "'Tecno Spark Go 2024 (4G 4GB 64GB Magic Skin) With Official Warranty'"
      ]
     },
     "execution_count": 16,
     "metadata": {},
     "output_type": "execute_result"
    }
   ],
   "source": [
    "divs[0].find('h5', class_='ProductDetails').find('a').text"
   ]
  },
  {
   "cell_type": "code",
   "execution_count": 21,
   "id": "de59bd11-71ea-4151-ae6b-a46bcf11d6d1",
   "metadata": {},
   "outputs": [
    {
     "data": {
      "text/plain": [
       "'https://homeshopping.pk/products/Tecno-Spark-Go-2024-64GB-Magic-Skin-Price-in-Pakistan.html'"
      ]
     },
     "execution_count": 21,
     "metadata": {},
     "output_type": "execute_result"
    }
   ],
   "source": [
    "divs[0].find('h5', class_='ProductDetails').find('a').get('href')"
   ]
  },
  {
   "cell_type": "code",
   "execution_count": 26,
   "id": "db96acba-988a-447f-916f-a5f16161638a",
   "metadata": {},
   "outputs": [
    {
     "data": {
      "text/plain": [
       "'Rs 23,999'"
      ]
     },
     "execution_count": 26,
     "metadata": {},
     "output_type": "execute_result"
    }
   ],
   "source": [
    "divs[0].find('div',class_='ActualPrice').text.strip()"
   ]
  },
  {
   "cell_type": "code",
   "execution_count": 28,
   "id": "54855c6d-124b-4d53-95c4-0980f40ccf8a",
   "metadata": {},
   "outputs": [
    {
     "data": {
      "text/plain": [
       "'https://cdn.homeshopping.pk/product_images/s/691/Tecno-Spark-Go-2024-Magic-Skin-1__85207_thumb.png'"
      ]
     },
     "execution_count": 28,
     "metadata": {},
     "output_type": "execute_result"
    }
   ],
   "source": [
    "divs[0].find('img', class_='img-responsive').get('data-src')"
   ]
  },
  {
   "cell_type": "code",
   "execution_count": 30,
   "id": "f0ebb324-0eef-4a8c-8326-6e929d2675da",
   "metadata": {},
   "outputs": [
    {
     "data": {
      "text/plain": [
       "'349435'"
      ]
     },
     "execution_count": 30,
     "metadata": {},
     "output_type": "execute_result"
    }
   ],
   "source": [
    "divs[0].find('span',class_='total_sold_count').get('data-product_id')"
   ]
  },
  {
   "cell_type": "code",
   "execution_count": 60,
   "id": "c3de39bd-f700-45a3-a0f0-36b29e19c0cb",
   "metadata": {},
   "outputs": [],
   "source": [
    "data = pd.DataFrame(columns=['ID','NAME','PRICE','SOLDBY','URL','IMG'])"
   ]
  },
  {
   "cell_type": "code",
   "execution_count": 61,
   "id": "e6b560ae-2192-4c0b-a4c8-0ceca4a48cde",
   "metadata": {},
   "outputs": [
    {
     "data": {
      "text/html": [
       "<div>\n",
       "<style scoped>\n",
       "    .dataframe tbody tr th:only-of-type {\n",
       "        vertical-align: middle;\n",
       "    }\n",
       "\n",
       "    .dataframe tbody tr th {\n",
       "        vertical-align: top;\n",
       "    }\n",
       "\n",
       "    .dataframe thead th {\n",
       "        text-align: right;\n",
       "    }\n",
       "</style>\n",
       "<table border=\"1\" class=\"dataframe\">\n",
       "  <thead>\n",
       "    <tr style=\"text-align: right;\">\n",
       "      <th></th>\n",
       "      <th>ID</th>\n",
       "      <th>NAME</th>\n",
       "      <th>PRICE</th>\n",
       "      <th>SOLDBY</th>\n",
       "      <th>URL</th>\n",
       "      <th>IMG</th>\n",
       "    </tr>\n",
       "  </thead>\n",
       "  <tbody>\n",
       "  </tbody>\n",
       "</table>\n",
       "</div>"
      ],
      "text/plain": [
       "Empty DataFrame\n",
       "Columns: [ID, NAME, PRICE, SOLDBY, URL, IMG]\n",
       "Index: []"
      ]
     },
     "execution_count": 61,
     "metadata": {},
     "output_type": "execute_result"
    }
   ],
   "source": [
    "data"
   ]
  },
  {
   "cell_type": "code",
   "execution_count": 62,
   "id": "34348d5c-2e31-47b4-a686-71d893b4e8ed",
   "metadata": {},
   "outputs": [],
   "source": [
    "for div in divs:\n",
    "    URL = div.find('h5', class_='ProductDetails').find('a').get('href')\n",
    "    r = requests.get(URL) \n",
    "    soup2 = BeautifulSoup(r.content,'html.parser')\n",
    "    sold = soup2.find('div', style='display: ').find('a').text\n",
    "    temp = {'ID':div.find('span',class_='total_sold_count').get('data-product_id'),\n",
    "    'NAME':div.find('h5', class_='ProductDetails').find('a').text,\n",
    "    'PRICE':div.find('div',class_='ActualPrice').text.strip(),\n",
    "    'SOLDBY': sold,\n",
    "    'URL':URL,\n",
    "    'IMG':div.find('img', class_='img-responsive').get('data-src')\n",
    "        \n",
    "    }\n",
    "\n",
    "    tempdf = pd.DataFrame([temp])\n",
    "    data = pd.concat([data,tempdf], ignore_index=True)"
   ]
  },
  {
   "cell_type": "code",
   "execution_count": 63,
   "id": "6ad5d055-90a7-497e-906f-0a576e0d0c2d",
   "metadata": {},
   "outputs": [
    {
     "data": {
      "text/html": [
       "<div>\n",
       "<style scoped>\n",
       "    .dataframe tbody tr th:only-of-type {\n",
       "        vertical-align: middle;\n",
       "    }\n",
       "\n",
       "    .dataframe tbody tr th {\n",
       "        vertical-align: top;\n",
       "    }\n",
       "\n",
       "    .dataframe thead th {\n",
       "        text-align: right;\n",
       "    }\n",
       "</style>\n",
       "<table border=\"1\" class=\"dataframe\">\n",
       "  <thead>\n",
       "    <tr style=\"text-align: right;\">\n",
       "      <th></th>\n",
       "      <th>ID</th>\n",
       "      <th>NAME</th>\n",
       "      <th>PRICE</th>\n",
       "      <th>SOLDBY</th>\n",
       "      <th>URL</th>\n",
       "      <th>IMG</th>\n",
       "    </tr>\n",
       "  </thead>\n",
       "  <tbody>\n",
       "    <tr>\n",
       "      <th>0</th>\n",
       "      <td>349435</td>\n",
       "      <td>Tecno Spark Go 2024 (4G 4GB 64GB Magic Skin) W...</td>\n",
       "      <td>Rs 23,999</td>\n",
       "      <td>NC Com (Karachi)</td>\n",
       "      <td>https://homeshopping.pk/products/Tecno-Spark-G...</td>\n",
       "      <td>https://cdn.homeshopping.pk/product_images/s/6...</td>\n",
       "    </tr>\n",
       "    <tr>\n",
       "      <th>1</th>\n",
       "      <td>347821</td>\n",
       "      <td>Dcode Cygnal 3 (4G 4GB 64GB Berry Purple) With...</td>\n",
       "      <td>Rs 20,999</td>\n",
       "      <td>NC Com (Karachi)</td>\n",
       "      <td>https://homeshopping.pk/products/Dcode-Cygnal-...</td>\n",
       "      <td>https://cdn.homeshopping.pk/product_images/t/9...</td>\n",
       "    </tr>\n",
       "    <tr>\n",
       "      <th>2</th>\n",
       "      <td>347065</td>\n",
       "      <td>Tecno Pop 7 (4G 2GB 64GB Capri Blue) - With Of...</td>\n",
       "      <td>Rs 19,399</td>\n",
       "      <td>MD Mobiles (Karachi)</td>\n",
       "      <td>https://homeshopping.pk/products/Tecno-Pop-7-4...</td>\n",
       "      <td>https://cdn.homeshopping.pk/product_images/y/8...</td>\n",
       "    </tr>\n",
       "    <tr>\n",
       "      <th>3</th>\n",
       "      <td>350415</td>\n",
       "      <td>Tecno Spark 20 Pro (4G 8GB 256GB Sunset Blush)...</td>\n",
       "      <td>Rs 39,499</td>\n",
       "      <td>NC Com (Karachi)</td>\n",
       "      <td>https://homeshopping.pk/products/Tecno-Spark-2...</td>\n",
       "      <td>https://cdn.homeshopping.pk/product_images/c/4...</td>\n",
       "    </tr>\n",
       "    <tr>\n",
       "      <th>4</th>\n",
       "      <td>347394</td>\n",
       "      <td>Infinix Smart 7 HD (4G 2GB 64GB Silk Blue) - W...</td>\n",
       "      <td>Rs 19,499</td>\n",
       "      <td>NC Com (Karachi)</td>\n",
       "      <td>https://homeshopping.pk/products/Infinix-Smart...</td>\n",
       "      <td>https://cdn.homeshopping.pk/product_images/v/3...</td>\n",
       "    </tr>\n",
       "  </tbody>\n",
       "</table>\n",
       "</div>"
      ],
      "text/plain": [
       "       ID                                               NAME      PRICE  \\\n",
       "0  349435  Tecno Spark Go 2024 (4G 4GB 64GB Magic Skin) W...  Rs 23,999   \n",
       "1  347821  Dcode Cygnal 3 (4G 4GB 64GB Berry Purple) With...  Rs 20,999   \n",
       "2  347065  Tecno Pop 7 (4G 2GB 64GB Capri Blue) - With Of...  Rs 19,399   \n",
       "3  350415  Tecno Spark 20 Pro (4G 8GB 256GB Sunset Blush)...  Rs 39,499   \n",
       "4  347394  Infinix Smart 7 HD (4G 2GB 64GB Silk Blue) - W...  Rs 19,499   \n",
       "\n",
       "                 SOLDBY                                                URL  \\\n",
       "0      NC Com (Karachi)  https://homeshopping.pk/products/Tecno-Spark-G...   \n",
       "1      NC Com (Karachi)  https://homeshopping.pk/products/Dcode-Cygnal-...   \n",
       "2  MD Mobiles (Karachi)  https://homeshopping.pk/products/Tecno-Pop-7-4...   \n",
       "3      NC Com (Karachi)  https://homeshopping.pk/products/Tecno-Spark-2...   \n",
       "4      NC Com (Karachi)  https://homeshopping.pk/products/Infinix-Smart...   \n",
       "\n",
       "                                                 IMG  \n",
       "0  https://cdn.homeshopping.pk/product_images/s/6...  \n",
       "1  https://cdn.homeshopping.pk/product_images/t/9...  \n",
       "2  https://cdn.homeshopping.pk/product_images/y/8...  \n",
       "3  https://cdn.homeshopping.pk/product_images/c/4...  \n",
       "4  https://cdn.homeshopping.pk/product_images/v/3...  "
      ]
     },
     "execution_count": 63,
     "metadata": {},
     "output_type": "execute_result"
    }
   ],
   "source": [
    "data.head()"
   ]
  },
  {
   "cell_type": "code",
   "execution_count": 58,
   "id": "ac0c1054-e026-4603-bf64-ac7ab20ddcfe",
   "metadata": {},
   "outputs": [
    {
     "data": {
      "text/plain": [
       "SOLDBY\n",
       "NC Com (Karachi)           19\n",
       "MD Mobiles (Karachi)        3\n",
       " (Karachi)                  1\n",
       "Jmart Mobiles (Karachi)     1\n",
       "Name: count, dtype: int64"
      ]
     },
     "execution_count": 58,
     "metadata": {},
     "output_type": "execute_result"
    }
   ],
   "source": [
    "data.SOLDBY.value_counts()"
   ]
  },
  {
   "cell_type": "code",
   "execution_count": 45,
   "id": "26100aeb-2887-403e-a893-59ad4b4a6afa",
   "metadata": {},
   "outputs": [
    {
     "data": {
      "text/html": [
       "<div>\n",
       "<style scoped>\n",
       "    .dataframe tbody tr th:only-of-type {\n",
       "        vertical-align: middle;\n",
       "    }\n",
       "\n",
       "    .dataframe tbody tr th {\n",
       "        vertical-align: top;\n",
       "    }\n",
       "\n",
       "    .dataframe thead th {\n",
       "        text-align: right;\n",
       "    }\n",
       "</style>\n",
       "<table border=\"1\" class=\"dataframe\">\n",
       "  <thead>\n",
       "    <tr style=\"text-align: right;\">\n",
       "      <th></th>\n",
       "      <th>ID</th>\n",
       "      <th>NAME</th>\n",
       "      <th>PRICE</th>\n",
       "      <th>URL</th>\n",
       "      <th>IMG</th>\n",
       "    </tr>\n",
       "  </thead>\n",
       "  <tbody>\n",
       "    <tr>\n",
       "      <th>count</th>\n",
       "      <td>24</td>\n",
       "      <td>24</td>\n",
       "      <td>24</td>\n",
       "      <td>24</td>\n",
       "      <td>24</td>\n",
       "    </tr>\n",
       "    <tr>\n",
       "      <th>unique</th>\n",
       "      <td>24</td>\n",
       "      <td>24</td>\n",
       "      <td>19</td>\n",
       "      <td>24</td>\n",
       "      <td>24</td>\n",
       "    </tr>\n",
       "    <tr>\n",
       "      <th>top</th>\n",
       "      <td>349435</td>\n",
       "      <td>Tecno Spark Go 2024 (4G 4GB 64GB Magic Skin) W...</td>\n",
       "      <td>Rs 23,999</td>\n",
       "      <td>https://homeshopping.pk/products/Tecno-Spark-G...</td>\n",
       "      <td>https://cdn.homeshopping.pk/product_images/s/6...</td>\n",
       "    </tr>\n",
       "    <tr>\n",
       "      <th>freq</th>\n",
       "      <td>1</td>\n",
       "      <td>1</td>\n",
       "      <td>2</td>\n",
       "      <td>1</td>\n",
       "      <td>1</td>\n",
       "    </tr>\n",
       "  </tbody>\n",
       "</table>\n",
       "</div>"
      ],
      "text/plain": [
       "            ID                                               NAME      PRICE  \\\n",
       "count       24                                                 24         24   \n",
       "unique      24                                                 24         19   \n",
       "top     349435  Tecno Spark Go 2024 (4G 4GB 64GB Magic Skin) W...  Rs 23,999   \n",
       "freq         1                                                  1          2   \n",
       "\n",
       "                                                      URL  \\\n",
       "count                                                  24   \n",
       "unique                                                 24   \n",
       "top     https://homeshopping.pk/products/Tecno-Spark-G...   \n",
       "freq                                                    1   \n",
       "\n",
       "                                                      IMG  \n",
       "count                                                  24  \n",
       "unique                                                 24  \n",
       "top     https://cdn.homeshopping.pk/product_images/s/6...  \n",
       "freq                                                    1  "
      ]
     },
     "execution_count": 45,
     "metadata": {},
     "output_type": "execute_result"
    }
   ],
   "source": [
    "data.describe()"
   ]
  },
  {
   "cell_type": "code",
   "execution_count": 46,
   "id": "f305bf8b-aa5a-40c1-bdb6-d32cb5bb84fd",
   "metadata": {},
   "outputs": [],
   "source": [
    "data.to_csv('product_data2.csv')"
   ]
  },
  {
   "cell_type": "code",
   "execution_count": null,
   "id": "a7148b1c-d7af-400e-ad92-94cd743f2603",
   "metadata": {},
   "outputs": [],
   "source": []
  }
 ],
 "metadata": {
  "kernelspec": {
   "display_name": "Python 3 (ipykernel)",
   "language": "python",
   "name": "python3"
  },
  "language_info": {
   "codemirror_mode": {
    "name": "ipython",
    "version": 3
   },
   "file_extension": ".py",
   "mimetype": "text/x-python",
   "name": "python",
   "nbconvert_exporter": "python",
   "pygments_lexer": "ipython3",
   "version": "3.12.4"
  }
 },
 "nbformat": 4,
 "nbformat_minor": 5
}

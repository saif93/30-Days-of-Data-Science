{
 "cells": [
  {
   "cell_type": "markdown",
   "id": "f8a33312-5fc2-439e-8f93-c6c1ded0b071",
   "metadata": {},
   "source": [
    "# Load Dataset"
   ]
  },
  {
   "cell_type": "code",
   "execution_count": 2,
   "id": "927b5841-5abd-4a07-bee5-db8e77569ed8",
   "metadata": {},
   "outputs": [],
   "source": [
    "import pandas as pd"
   ]
  },
  {
   "cell_type": "code",
   "execution_count": 3,
   "id": "899f7012-a969-4614-a75d-68bb134493c9",
   "metadata": {},
   "outputs": [
    {
     "data": {
      "text/html": [
       "<div>\n",
       "<style scoped>\n",
       "    .dataframe tbody tr th:only-of-type {\n",
       "        vertical-align: middle;\n",
       "    }\n",
       "\n",
       "    .dataframe tbody tr th {\n",
       "        vertical-align: top;\n",
       "    }\n",
       "\n",
       "    .dataframe thead th {\n",
       "        text-align: right;\n",
       "    }\n",
       "</style>\n",
       "<table border=\"1\" class=\"dataframe\">\n",
       "  <thead>\n",
       "    <tr style=\"text-align: right;\">\n",
       "      <th></th>\n",
       "      <th>Artist</th>\n",
       "      <th>Track</th>\n",
       "      <th>Album</th>\n",
       "      <th>Album_type</th>\n",
       "      <th>Views</th>\n",
       "      <th>Likes</th>\n",
       "      <th>Comments</th>\n",
       "      <th>Licensed</th>\n",
       "      <th>official_video</th>\n",
       "      <th>Stream</th>\n",
       "    </tr>\n",
       "  </thead>\n",
       "  <tbody>\n",
       "    <tr>\n",
       "      <th>0</th>\n",
       "      <td>Gorillaz</td>\n",
       "      <td>Feel Good Inc.</td>\n",
       "      <td>Demon Days</td>\n",
       "      <td>album</td>\n",
       "      <td>693555221.0</td>\n",
       "      <td>6220896.0</td>\n",
       "      <td>169907.0</td>\n",
       "      <td>True</td>\n",
       "      <td>True</td>\n",
       "      <td>1.040235e+09</td>\n",
       "    </tr>\n",
       "    <tr>\n",
       "      <th>1</th>\n",
       "      <td>Gorillaz</td>\n",
       "      <td>Rhinestone Eyes</td>\n",
       "      <td>Plastic Beach</td>\n",
       "      <td>album</td>\n",
       "      <td>72011645.0</td>\n",
       "      <td>1079128.0</td>\n",
       "      <td>31003.0</td>\n",
       "      <td>True</td>\n",
       "      <td>True</td>\n",
       "      <td>3.100837e+08</td>\n",
       "    </tr>\n",
       "    <tr>\n",
       "      <th>2</th>\n",
       "      <td>Gorillaz</td>\n",
       "      <td>New Gold (feat. Tame Impala and Bootie Brown)</td>\n",
       "      <td>New Gold (feat. Tame Impala and Bootie Brown)</td>\n",
       "      <td>single</td>\n",
       "      <td>8435055.0</td>\n",
       "      <td>282142.0</td>\n",
       "      <td>7399.0</td>\n",
       "      <td>True</td>\n",
       "      <td>True</td>\n",
       "      <td>6.306347e+07</td>\n",
       "    </tr>\n",
       "    <tr>\n",
       "      <th>3</th>\n",
       "      <td>Gorillaz</td>\n",
       "      <td>On Melancholy Hill</td>\n",
       "      <td>Plastic Beach</td>\n",
       "      <td>album</td>\n",
       "      <td>211754952.0</td>\n",
       "      <td>1788577.0</td>\n",
       "      <td>55229.0</td>\n",
       "      <td>True</td>\n",
       "      <td>True</td>\n",
       "      <td>4.346636e+08</td>\n",
       "    </tr>\n",
       "    <tr>\n",
       "      <th>4</th>\n",
       "      <td>Gorillaz</td>\n",
       "      <td>Clint Eastwood</td>\n",
       "      <td>Gorillaz</td>\n",
       "      <td>album</td>\n",
       "      <td>618480958.0</td>\n",
       "      <td>6197318.0</td>\n",
       "      <td>155930.0</td>\n",
       "      <td>True</td>\n",
       "      <td>True</td>\n",
       "      <td>6.172597e+08</td>\n",
       "    </tr>\n",
       "  </tbody>\n",
       "</table>\n",
       "</div>"
      ],
      "text/plain": [
       "     Artist                                          Track  \\\n",
       "0  Gorillaz                                 Feel Good Inc.   \n",
       "1  Gorillaz                                Rhinestone Eyes   \n",
       "2  Gorillaz  New Gold (feat. Tame Impala and Bootie Brown)   \n",
       "3  Gorillaz                             On Melancholy Hill   \n",
       "4  Gorillaz                                 Clint Eastwood   \n",
       "\n",
       "                                           Album Album_type        Views  \\\n",
       "0                                     Demon Days      album  693555221.0   \n",
       "1                                  Plastic Beach      album   72011645.0   \n",
       "2  New Gold (feat. Tame Impala and Bootie Brown)     single    8435055.0   \n",
       "3                                  Plastic Beach      album  211754952.0   \n",
       "4                                       Gorillaz      album  618480958.0   \n",
       "\n",
       "       Likes  Comments Licensed official_video        Stream  \n",
       "0  6220896.0  169907.0     True           True  1.040235e+09  \n",
       "1  1079128.0   31003.0     True           True  3.100837e+08  \n",
       "2   282142.0    7399.0     True           True  6.306347e+07  \n",
       "3  1788577.0   55229.0     True           True  4.346636e+08  \n",
       "4  6197318.0  155930.0     True           True  6.172597e+08  "
      ]
     },
     "execution_count": 3,
     "metadata": {},
     "output_type": "execute_result"
    }
   ],
   "source": [
    "df = pd.read_csv(\"Spotify_Youtube_Sample.csv\")\n",
    "df.head()"
   ]
  },
  {
   "cell_type": "markdown",
   "id": "65a02009-8d52-4cee-905f-d4fb9069a8ee",
   "metadata": {},
   "source": [
    "## Question 1: How many tracks are there in each album type?"
   ]
  },
  {
   "cell_type": "code",
   "execution_count": 10,
   "id": "6671c14d-a2b5-4e58-ac92-af055a044704",
   "metadata": {},
   "outputs": [
    {
     "data": {
      "text/plain": [
       "Album_type\n",
       "album          14926\n",
       "single          5004\n",
       "compilation      788\n",
       "Name: count, dtype: int64"
      ]
     },
     "execution_count": 10,
     "metadata": {},
     "output_type": "execute_result"
    }
   ],
   "source": [
    "df['Album_type'].value_counts()"
   ]
  },
  {
   "cell_type": "markdown",
   "id": "0642acf7-957e-46f7-901b-2e5706248916",
   "metadata": {},
   "source": [
    "## Question 2: How many licensed tracks are available for each album type?"
   ]
  },
  {
   "cell_type": "code",
   "execution_count": 4,
   "id": "b1801801-f11c-46b9-bf1d-29b69b64d6e3",
   "metadata": {},
   "outputs": [
    {
     "data": {
      "text/html": [
       "<div>\n",
       "<style scoped>\n",
       "    .dataframe tbody tr th:only-of-type {\n",
       "        vertical-align: middle;\n",
       "    }\n",
       "\n",
       "    .dataframe tbody tr th {\n",
       "        vertical-align: top;\n",
       "    }\n",
       "\n",
       "    .dataframe thead th {\n",
       "        text-align: right;\n",
       "    }\n",
       "</style>\n",
       "<table border=\"1\" class=\"dataframe\">\n",
       "  <thead>\n",
       "    <tr style=\"text-align: right;\">\n",
       "      <th>Licensed</th>\n",
       "      <th>False</th>\n",
       "      <th>True</th>\n",
       "    </tr>\n",
       "    <tr>\n",
       "      <th>Album_type</th>\n",
       "      <th></th>\n",
       "      <th></th>\n",
       "    </tr>\n",
       "  </thead>\n",
       "  <tbody>\n",
       "    <tr>\n",
       "      <th>album</th>\n",
       "      <td>4335</td>\n",
       "      <td>10284</td>\n",
       "    </tr>\n",
       "    <tr>\n",
       "      <th>compilation</th>\n",
       "      <td>313</td>\n",
       "      <td>456</td>\n",
       "    </tr>\n",
       "    <tr>\n",
       "      <th>single</th>\n",
       "      <td>1460</td>\n",
       "      <td>3400</td>\n",
       "    </tr>\n",
       "  </tbody>\n",
       "</table>\n",
       "</div>"
      ],
      "text/plain": [
       "Licensed     False  True \n",
       "Album_type               \n",
       "album         4335  10284\n",
       "compilation    313    456\n",
       "single        1460   3400"
      ]
     },
     "execution_count": 4,
     "metadata": {},
     "output_type": "execute_result"
    }
   ],
   "source": [
    "pd.crosstab(df['Album_type'], df['Licensed'])"
   ]
  },
  {
   "cell_type": "markdown",
   "id": "6f898478-b450-44b6-8886-cc5d4ed53474",
   "metadata": {},
   "source": [
    "## Question 3: What is the total number of Views for each Artist? \n",
    "## Sort in desending order of views"
   ]
  },
  {
   "cell_type": "code",
   "execution_count": 21,
   "id": "c950941d-b9be-42d0-bd1b-21573fbf0e33",
   "metadata": {},
   "outputs": [
    {
     "data": {
      "text/plain": [
       "Artist\n",
       "Ed Sheeran                1.546021e+10\n",
       "CoComelon                 1.460167e+10\n",
       "Katy Perry                1.312063e+10\n",
       "Charlie Puth              1.216759e+10\n",
       "Luis Fonsi                1.162811e+10\n",
       "                              ...     \n",
       "Jorge & Mateus            0.000000e+00\n",
       "Yovie & Nuno              0.000000e+00\n",
       "Angus & Julia Stone       0.000000e+00\n",
       "KC & The Sunshine Band    0.000000e+00\n",
       "Matheus & Kauan           0.000000e+00\n",
       "Name: Views, Length: 2079, dtype: float64"
      ]
     },
     "execution_count": 21,
     "metadata": {},
     "output_type": "execute_result"
    }
   ],
   "source": [
    "df.groupby('Artist')['Views'].sum().sort_values(ascending=False)"
   ]
  },
  {
   "cell_type": "markdown",
   "id": "005236c9-267d-4f74-8a7d-80199bcf91d6",
   "metadata": {},
   "source": [
    "## Question 4: What is the average number of Likes, Comments, and Views for each Album Type?"
   ]
  },
  {
   "cell_type": "code",
   "execution_count": 25,
   "id": "4b917d15-ffc2-4051-a151-15ecf6e417e4",
   "metadata": {},
   "outputs": [
    {
     "data": {
      "text/html": [
       "<div>\n",
       "<style scoped>\n",
       "    .dataframe tbody tr th:only-of-type {\n",
       "        vertical-align: middle;\n",
       "    }\n",
       "\n",
       "    .dataframe tbody tr th {\n",
       "        vertical-align: top;\n",
       "    }\n",
       "\n",
       "    .dataframe thead tr th {\n",
       "        text-align: left;\n",
       "    }\n",
       "</style>\n",
       "<table border=\"1\" class=\"dataframe\">\n",
       "  <thead>\n",
       "    <tr>\n",
       "      <th></th>\n",
       "      <th>Album_type</th>\n",
       "      <th>Likes</th>\n",
       "      <th>Comments</th>\n",
       "      <th>Views</th>\n",
       "    </tr>\n",
       "    <tr>\n",
       "      <th></th>\n",
       "      <th></th>\n",
       "      <th>mean</th>\n",
       "      <th>mean</th>\n",
       "      <th>mean</th>\n",
       "    </tr>\n",
       "  </thead>\n",
       "  <tbody>\n",
       "    <tr>\n",
       "      <th>0</th>\n",
       "      <td>album</td>\n",
       "      <td>654610.563981</td>\n",
       "      <td>28195.258255</td>\n",
       "      <td>9.842739e+07</td>\n",
       "    </tr>\n",
       "    <tr>\n",
       "      <th>1</th>\n",
       "      <td>compilation</td>\n",
       "      <td>510876.460836</td>\n",
       "      <td>17006.866841</td>\n",
       "      <td>7.961832e+07</td>\n",
       "    </tr>\n",
       "    <tr>\n",
       "      <th>2</th>\n",
       "      <td>single</td>\n",
       "      <td>713608.001649</td>\n",
       "      <td>27152.191046</td>\n",
       "      <td>8.269886e+07</td>\n",
       "    </tr>\n",
       "  </tbody>\n",
       "</table>\n",
       "</div>"
      ],
      "text/plain": [
       "    Album_type          Likes      Comments         Views\n",
       "                         mean          mean          mean\n",
       "0        album  654610.563981  28195.258255  9.842739e+07\n",
       "1  compilation  510876.460836  17006.866841  7.961832e+07\n",
       "2       single  713608.001649  27152.191046  8.269886e+07"
      ]
     },
     "execution_count": 25,
     "metadata": {},
     "output_type": "execute_result"
    }
   ],
   "source": [
    "df.groupby('Album_type').agg({'Likes': ['mean'], 'Comments': 'mean', 'Views': 'mean'}).reset_index()"
   ]
  },
  {
   "cell_type": "markdown",
   "id": "7c912f51-cf4b-4022-9faa-ab3911d7e46e",
   "metadata": {},
   "source": [
    " ## Question 5: Which Album Type has the highest average number of Views?"
   ]
  },
  {
   "cell_type": "code",
   "execution_count": 31,
   "id": "f1c1daa4-4015-4aa2-aaa6-1912392352fd",
   "metadata": {},
   "outputs": [
    {
     "data": {
      "text/plain": [
       "'album'"
      ]
     },
     "execution_count": 31,
     "metadata": {},
     "output_type": "execute_result"
    }
   ],
   "source": [
    "df.groupby('Album_type')['Views'].mean().idxmax()"
   ]
  },
  {
   "cell_type": "markdown",
   "id": "bb7d4428-b592-4870-acd8-85ad882bffaf",
   "metadata": {},
   "source": [
    "## Question 6: Find the artists with the \n",
    "## Maximum views\n",
    "## Maximum likes and\n",
    "## Maximum comments"
   ]
  },
  {
   "cell_type": "code",
   "execution_count": 33,
   "id": "ada0a40b-53e7-4431-be8d-9046e739d08a",
   "metadata": {},
   "outputs": [],
   "source": [
    "max_views_artist = df.loc[df['Views'].idxmax()]['Artist']\n",
    "max_likes_artist = df.loc[df['Likes'].idxmax()]['Artist']\n",
    "max_comments_artist = df.loc[df['Comments'].idxmax()]['Artist']"
   ]
  },
  {
   "cell_type": "markdown",
   "id": "da8efe53-e023-42a2-bc2a-219cc2420377",
   "metadata": {},
   "source": [
    "## Question 7: Which track has the most reactions?"
   ]
  },
  {
   "cell_type": "code",
   "execution_count": 37,
   "id": "a91aa0f4-6041-4ae7-b382-fb249b490df4",
   "metadata": {},
   "outputs": [
    {
     "data": {
      "text/plain": [
       "'Despacito'"
      ]
     },
     "execution_count": 37,
     "metadata": {},
     "output_type": "execute_result"
    }
   ],
   "source": [
    "df.loc[(df['Likes'] + df['Comments']).idxmax()]['Track']"
   ]
  },
  {
   "cell_type": "markdown",
   "id": "94f3862b-5f18-4c84-a914-cae3d4d1b1b4",
   "metadata": {},
   "source": [
    "## Question 8: Which artist with the highest cumulative stream value across all their tracks?"
   ]
  },
  {
   "cell_type": "code",
   "execution_count": 46,
   "id": "5434d58c-7780-4180-b85e-0de0d1e30299",
   "metadata": {},
   "outputs": [
    {
     "data": {
      "text/plain": [
       "'Post Malone'"
      ]
     },
     "execution_count": 46,
     "metadata": {},
     "output_type": "execute_result"
    }
   ],
   "source": [
    "df.groupby('Artist')['Stream'].sum().idxmax()"
   ]
  },
  {
   "cell_type": "markdown",
   "id": "49a4fb5d-53ba-4776-a922-3d3a7f2b17b8",
   "metadata": {},
   "source": [
    "## Question 9: What is the total number of Likes for each Artist across their official videos?"
   ]
  },
  {
   "cell_type": "code",
   "execution_count": 49,
   "id": "43d929e1-8c7b-463c-99d8-7539e8d2b62e",
   "metadata": {},
   "outputs": [
    {
     "data": {
      "text/html": [
       "<div>\n",
       "<style scoped>\n",
       "    .dataframe tbody tr th:only-of-type {\n",
       "        vertical-align: middle;\n",
       "    }\n",
       "\n",
       "    .dataframe tbody tr th {\n",
       "        vertical-align: top;\n",
       "    }\n",
       "\n",
       "    .dataframe thead th {\n",
       "        text-align: right;\n",
       "    }\n",
       "</style>\n",
       "<table border=\"1\" class=\"dataframe\">\n",
       "  <thead>\n",
       "    <tr style=\"text-align: right;\">\n",
       "      <th>official_video</th>\n",
       "      <th>False</th>\n",
       "      <th>True</th>\n",
       "    </tr>\n",
       "    <tr>\n",
       "      <th>Artist</th>\n",
       "      <th></th>\n",
       "      <th></th>\n",
       "    </tr>\n",
       "  </thead>\n",
       "  <tbody>\n",
       "    <tr>\n",
       "      <th>$NOT</th>\n",
       "      <td>1393483.0</td>\n",
       "      <td>1353680.0</td>\n",
       "    </tr>\n",
       "    <tr>\n",
       "      <th>$uicideboy$</th>\n",
       "      <td>188755.0</td>\n",
       "      <td>3387866.0</td>\n",
       "    </tr>\n",
       "    <tr>\n",
       "      <th>(G)I-DLE</th>\n",
       "      <td>250.0</td>\n",
       "      <td>24462713.0</td>\n",
       "    </tr>\n",
       "    <tr>\n",
       "      <th>*NSYNC</th>\n",
       "      <td>NaN</td>\n",
       "      <td>4233423.0</td>\n",
       "    </tr>\n",
       "    <tr>\n",
       "      <th>070 Shake</th>\n",
       "      <td>NaN</td>\n",
       "      <td>2013005.0</td>\n",
       "    </tr>\n",
       "    <tr>\n",
       "      <th>...</th>\n",
       "      <td>...</td>\n",
       "      <td>...</td>\n",
       "    </tr>\n",
       "    <tr>\n",
       "      <th>will.i.am</th>\n",
       "      <td>81487.0</td>\n",
       "      <td>13782984.0</td>\n",
       "    </tr>\n",
       "    <tr>\n",
       "      <th>Ángela Aguilar</th>\n",
       "      <td>141988.0</td>\n",
       "      <td>10152769.0</td>\n",
       "    </tr>\n",
       "    <tr>\n",
       "      <th>Ñejo</th>\n",
       "      <td>30526.0</td>\n",
       "      <td>4318384.0</td>\n",
       "    </tr>\n",
       "    <tr>\n",
       "      <th>Ñengo Flow</th>\n",
       "      <td>637053.0</td>\n",
       "      <td>6123287.0</td>\n",
       "    </tr>\n",
       "    <tr>\n",
       "      <th>Øneheart</th>\n",
       "      <td>NaN</td>\n",
       "      <td>1272167.0</td>\n",
       "    </tr>\n",
       "  </tbody>\n",
       "</table>\n",
       "<p>2063 rows × 2 columns</p>\n",
       "</div>"
      ],
      "text/plain": [
       "official_video      False       True \n",
       "Artist                               \n",
       "$NOT            1393483.0   1353680.0\n",
       "$uicideboy$      188755.0   3387866.0\n",
       "(G)I-DLE            250.0  24462713.0\n",
       "*NSYNC                NaN   4233423.0\n",
       "070 Shake             NaN   2013005.0\n",
       "...                   ...         ...\n",
       "will.i.am         81487.0  13782984.0\n",
       "Ángela Aguilar   141988.0  10152769.0\n",
       "Ñejo              30526.0   4318384.0\n",
       "Ñengo Flow       637053.0   6123287.0\n",
       "Øneheart              NaN   1272167.0\n",
       "\n",
       "[2063 rows x 2 columns]"
      ]
     },
     "execution_count": 49,
     "metadata": {},
     "output_type": "execute_result"
    }
   ],
   "source": [
    "pd.crosstab(df['Artist'], df['official_video'], values=df['Likes'], aggfunc='sum')\n"
   ]
  },
  {
   "cell_type": "markdown",
   "id": "f512d2ff-ad8a-4b67-9613-cc7d1f670209",
   "metadata": {},
   "source": [
    "## Question 10: Display correlation for each pair of numerical features"
   ]
  },
  {
   "cell_type": "code",
   "execution_count": 36,
   "id": "22f3be42-75dc-4d30-82e5-b0f5fa189eaa",
   "metadata": {},
   "outputs": [
    {
     "data": {
      "text/html": [
       "<div>\n",
       "<style scoped>\n",
       "    .dataframe tbody tr th:only-of-type {\n",
       "        vertical-align: middle;\n",
       "    }\n",
       "\n",
       "    .dataframe tbody tr th {\n",
       "        vertical-align: top;\n",
       "    }\n",
       "\n",
       "    .dataframe thead th {\n",
       "        text-align: right;\n",
       "    }\n",
       "</style>\n",
       "<table border=\"1\" class=\"dataframe\">\n",
       "  <thead>\n",
       "    <tr style=\"text-align: right;\">\n",
       "      <th></th>\n",
       "      <th>Views</th>\n",
       "      <th>Likes</th>\n",
       "      <th>Comments</th>\n",
       "      <th>Stream</th>\n",
       "    </tr>\n",
       "  </thead>\n",
       "  <tbody>\n",
       "    <tr>\n",
       "      <th>Views</th>\n",
       "      <td>1.000000</td>\n",
       "      <td>0.891101</td>\n",
       "      <td>0.431185</td>\n",
       "      <td>0.601905</td>\n",
       "    </tr>\n",
       "    <tr>\n",
       "      <th>Likes</th>\n",
       "      <td>0.891101</td>\n",
       "      <td>1.000000</td>\n",
       "      <td>0.631670</td>\n",
       "      <td>0.654247</td>\n",
       "    </tr>\n",
       "    <tr>\n",
       "      <th>Comments</th>\n",
       "      <td>0.431185</td>\n",
       "      <td>0.631670</td>\n",
       "      <td>1.000000</td>\n",
       "      <td>0.267737</td>\n",
       "    </tr>\n",
       "    <tr>\n",
       "      <th>Stream</th>\n",
       "      <td>0.601905</td>\n",
       "      <td>0.654247</td>\n",
       "      <td>0.267737</td>\n",
       "      <td>1.000000</td>\n",
       "    </tr>\n",
       "  </tbody>\n",
       "</table>\n",
       "</div>"
      ],
      "text/plain": [
       "             Views     Likes  Comments    Stream\n",
       "Views     1.000000  0.891101  0.431185  0.601905\n",
       "Likes     0.891101  1.000000  0.631670  0.654247\n",
       "Comments  0.431185  0.631670  1.000000  0.267737\n",
       "Stream    0.601905  0.654247  0.267737  1.000000"
      ]
     },
     "execution_count": 36,
     "metadata": {},
     "output_type": "execute_result"
    }
   ],
   "source": [
    "df.select_dtypes(include=['int64','float64']).corr()"
   ]
  },
  {
   "cell_type": "code",
   "execution_count": null,
   "id": "eab691e3-787f-4cef-9775-a14c3259dd9e",
   "metadata": {},
   "outputs": [],
   "source": []
  }
 ],
 "metadata": {
  "kernelspec": {
   "display_name": "Python 3 (ipykernel)",
   "language": "python",
   "name": "python3"
  },
  "language_info": {
   "codemirror_mode": {
    "name": "ipython",
    "version": 3
   },
   "file_extension": ".py",
   "mimetype": "text/x-python",
   "name": "python",
   "nbconvert_exporter": "python",
   "pygments_lexer": "ipython3",
   "version": "3.12.4"
  }
 },
 "nbformat": 4,
 "nbformat_minor": 5
}

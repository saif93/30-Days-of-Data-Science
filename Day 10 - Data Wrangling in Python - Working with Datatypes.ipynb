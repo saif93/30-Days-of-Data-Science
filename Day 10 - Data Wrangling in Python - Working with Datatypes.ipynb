{
 "cells": [
  {
   "cell_type": "code",
   "execution_count": 10,
   "id": "1e54a222-bd04-4aac-96e7-ea2f9cff3d83",
   "metadata": {},
   "outputs": [
    {
     "data": {
      "text/html": [
       "<div>\n",
       "<style scoped>\n",
       "    .dataframe tbody tr th:only-of-type {\n",
       "        vertical-align: middle;\n",
       "    }\n",
       "\n",
       "    .dataframe tbody tr th {\n",
       "        vertical-align: top;\n",
       "    }\n",
       "\n",
       "    .dataframe thead th {\n",
       "        text-align: right;\n",
       "    }\n",
       "</style>\n",
       "<table border=\"1\" class=\"dataframe\">\n",
       "  <thead>\n",
       "    <tr style=\"text-align: right;\">\n",
       "      <th></th>\n",
       "      <th>Age</th>\n",
       "      <th>Income</th>\n",
       "      <th>Signup_Date</th>\n",
       "      <th>Color</th>\n",
       "      <th>Score</th>\n",
       "    </tr>\n",
       "  </thead>\n",
       "  <tbody>\n",
       "    <tr>\n",
       "      <th>0</th>\n",
       "      <td>25</td>\n",
       "      <td>$1000.5</td>\n",
       "      <td>2023-01-15</td>\n",
       "      <td>Red</td>\n",
       "      <td>85</td>\n",
       "    </tr>\n",
       "    <tr>\n",
       "      <th>1</th>\n",
       "      <td>30</td>\n",
       "      <td>$1500.0</td>\n",
       "      <td>2023-02-20</td>\n",
       "      <td>Blue</td>\n",
       "      <td>90</td>\n",
       "    </tr>\n",
       "    <tr>\n",
       "      <th>2</th>\n",
       "      <td>35</td>\n",
       "      <td>$2000.75</td>\n",
       "      <td>2023-03-25</td>\n",
       "      <td>Green</td>\n",
       "      <td>78</td>\n",
       "    </tr>\n",
       "    <tr>\n",
       "      <th>3</th>\n",
       "      <td>40</td>\n",
       "      <td>?</td>\n",
       "      <td>2023-04-30</td>\n",
       "      <td>Red</td>\n",
       "      <td>92</td>\n",
       "    </tr>\n",
       "    <tr>\n",
       "      <th>4</th>\n",
       "      <td>45</td>\n",
       "      <td>$3000.25</td>\n",
       "      <td>2023-05-05</td>\n",
       "      <td>Blue</td>\n",
       "      <td>88</td>\n",
       "    </tr>\n",
       "  </tbody>\n",
       "</table>\n",
       "</div>"
      ],
      "text/plain": [
       "  Age    Income Signup_Date  Color  Score\n",
       "0  25   $1000.5  2023-01-15    Red     85\n",
       "1  30   $1500.0  2023-02-20   Blue     90\n",
       "2  35  $2000.75  2023-03-25  Green     78\n",
       "3  40         ?  2023-04-30    Red     92\n",
       "4  45  $3000.25  2023-05-05   Blue     88"
      ]
     },
     "execution_count": 10,
     "metadata": {},
     "output_type": "execute_result"
    }
   ],
   "source": [
    "import pandas as pd\n",
    "\n",
    "# Create a sample DataFrame\n",
    "data = {\n",
    "    'Age': ['25', '30', '35', '40', '45'],\n",
    "    'Income': ['$1000.5', '$1500.0', '$2000.75', '?', '$3000.25'],\n",
    "    'Signup_Date': ['2023-01-15', '2023-02-20', '2023-03-25', '2023-04-30', '2023-05-05'],\n",
    "    'Color': ['Red', 'Blue', 'Green', 'Red', 'Blue'],\n",
    "    'Score': [85, 90, 78, 92, 88]\n",
    "}\n",
    "\n",
    "df = pd.DataFrame(data)\n",
    "df\n"
   ]
  },
  {
   "cell_type": "code",
   "execution_count": 11,
   "id": "d60366da-6979-457c-8c79-7a49f947cd60",
   "metadata": {},
   "outputs": [
    {
     "data": {
      "text/plain": [
       "Age            object\n",
       "Income         object\n",
       "Signup_Date    object\n",
       "Color          object\n",
       "Score           int64\n",
       "dtype: object"
      ]
     },
     "execution_count": 11,
     "metadata": {},
     "output_type": "execute_result"
    }
   ],
   "source": [
    "df.dtypes"
   ]
  },
  {
   "cell_type": "code",
   "execution_count": 12,
   "id": "749b96c9-151a-4e56-b06c-58f18900f82f",
   "metadata": {},
   "outputs": [],
   "source": [
    "df['Age'] = pd.to_numeric(df['Age'], errors = 'coerce')"
   ]
  },
  {
   "cell_type": "code",
   "execution_count": 13,
   "id": "3be93352-e372-4de6-aaf0-5cfcfd756f7f",
   "metadata": {},
   "outputs": [
    {
     "data": {
      "text/plain": [
       "Age             int64\n",
       "Income         object\n",
       "Signup_Date    object\n",
       "Color          object\n",
       "Score           int64\n",
       "dtype: object"
      ]
     },
     "execution_count": 13,
     "metadata": {},
     "output_type": "execute_result"
    }
   ],
   "source": [
    "df.dtypes"
   ]
  },
  {
   "cell_type": "code",
   "execution_count": 14,
   "id": "042b9895-5111-49d9-8f79-4b6218a8a1d0",
   "metadata": {},
   "outputs": [],
   "source": [
    "df['Income'] = df['Income'].str.replace('$','')"
   ]
  },
  {
   "cell_type": "code",
   "execution_count": 15,
   "id": "1a6af44f-b9ec-4d58-908f-b2468ef8e48d",
   "metadata": {},
   "outputs": [
    {
     "data": {
      "text/plain": [
       "0     1000.5\n",
       "1     1500.0\n",
       "2    2000.75\n",
       "3          ?\n",
       "4    3000.25\n",
       "Name: Income, dtype: object"
      ]
     },
     "execution_count": 15,
     "metadata": {},
     "output_type": "execute_result"
    }
   ],
   "source": [
    "df.Income"
   ]
  },
  {
   "cell_type": "code",
   "execution_count": 18,
   "id": "f22b1d69-76af-4789-9234-f087b3199b32",
   "metadata": {},
   "outputs": [],
   "source": [
    "df['Income'] = pd.to_numeric(df['Income'], errors = 'coerce')"
   ]
  },
  {
   "cell_type": "code",
   "execution_count": 19,
   "id": "10b00ffb-903b-4d66-b27a-53d98cf6b62b",
   "metadata": {},
   "outputs": [
    {
     "data": {
      "text/plain": [
       "Age              int64\n",
       "Income         float64\n",
       "Signup_Date     object\n",
       "Color           object\n",
       "Score            int64\n",
       "dtype: object"
      ]
     },
     "execution_count": 19,
     "metadata": {},
     "output_type": "execute_result"
    }
   ],
   "source": [
    "df.dtypes"
   ]
  },
  {
   "cell_type": "code",
   "execution_count": 20,
   "id": "b7cf881b-30c3-41ed-b793-976d0afc46e4",
   "metadata": {},
   "outputs": [
    {
     "data": {
      "text/html": [
       "<div>\n",
       "<style scoped>\n",
       "    .dataframe tbody tr th:only-of-type {\n",
       "        vertical-align: middle;\n",
       "    }\n",
       "\n",
       "    .dataframe tbody tr th {\n",
       "        vertical-align: top;\n",
       "    }\n",
       "\n",
       "    .dataframe thead th {\n",
       "        text-align: right;\n",
       "    }\n",
       "</style>\n",
       "<table border=\"1\" class=\"dataframe\">\n",
       "  <thead>\n",
       "    <tr style=\"text-align: right;\">\n",
       "      <th></th>\n",
       "      <th>Age</th>\n",
       "      <th>Income</th>\n",
       "      <th>Signup_Date</th>\n",
       "      <th>Color</th>\n",
       "      <th>Score</th>\n",
       "    </tr>\n",
       "  </thead>\n",
       "  <tbody>\n",
       "    <tr>\n",
       "      <th>0</th>\n",
       "      <td>25</td>\n",
       "      <td>1000.50</td>\n",
       "      <td>2023-01-15</td>\n",
       "      <td>Red</td>\n",
       "      <td>85</td>\n",
       "    </tr>\n",
       "    <tr>\n",
       "      <th>1</th>\n",
       "      <td>30</td>\n",
       "      <td>1500.00</td>\n",
       "      <td>2023-02-20</td>\n",
       "      <td>Blue</td>\n",
       "      <td>90</td>\n",
       "    </tr>\n",
       "    <tr>\n",
       "      <th>2</th>\n",
       "      <td>35</td>\n",
       "      <td>2000.75</td>\n",
       "      <td>2023-03-25</td>\n",
       "      <td>Green</td>\n",
       "      <td>78</td>\n",
       "    </tr>\n",
       "    <tr>\n",
       "      <th>3</th>\n",
       "      <td>40</td>\n",
       "      <td>NaN</td>\n",
       "      <td>2023-04-30</td>\n",
       "      <td>Red</td>\n",
       "      <td>92</td>\n",
       "    </tr>\n",
       "    <tr>\n",
       "      <th>4</th>\n",
       "      <td>45</td>\n",
       "      <td>3000.25</td>\n",
       "      <td>2023-05-05</td>\n",
       "      <td>Blue</td>\n",
       "      <td>88</td>\n",
       "    </tr>\n",
       "  </tbody>\n",
       "</table>\n",
       "</div>"
      ],
      "text/plain": [
       "   Age   Income Signup_Date  Color  Score\n",
       "0   25  1000.50  2023-01-15    Red     85\n",
       "1   30  1500.00  2023-02-20   Blue     90\n",
       "2   35  2000.75  2023-03-25  Green     78\n",
       "3   40      NaN  2023-04-30    Red     92\n",
       "4   45  3000.25  2023-05-05   Blue     88"
      ]
     },
     "execution_count": 20,
     "metadata": {},
     "output_type": "execute_result"
    }
   ],
   "source": [
    "df"
   ]
  },
  {
   "cell_type": "code",
   "execution_count": 21,
   "id": "d65e2354-c9c5-43d3-a922-be8f289d08ce",
   "metadata": {},
   "outputs": [],
   "source": [
    "df['Score'] = df['Score'].astype('float')"
   ]
  },
  {
   "cell_type": "code",
   "execution_count": 22,
   "id": "a495df35-e266-4fe8-a529-2a34e5e57711",
   "metadata": {},
   "outputs": [
    {
     "data": {
      "text/plain": [
       "Age              int64\n",
       "Income         float64\n",
       "Signup_Date     object\n",
       "Color           object\n",
       "Score          float64\n",
       "dtype: object"
      ]
     },
     "execution_count": 22,
     "metadata": {},
     "output_type": "execute_result"
    }
   ],
   "source": [
    "df.dtypes"
   ]
  },
  {
   "cell_type": "code",
   "execution_count": 23,
   "id": "35120c62-e97b-4f10-b8c1-fae803b32903",
   "metadata": {},
   "outputs": [
    {
     "data": {
      "text/html": [
       "<div>\n",
       "<style scoped>\n",
       "    .dataframe tbody tr th:only-of-type {\n",
       "        vertical-align: middle;\n",
       "    }\n",
       "\n",
       "    .dataframe tbody tr th {\n",
       "        vertical-align: top;\n",
       "    }\n",
       "\n",
       "    .dataframe thead th {\n",
       "        text-align: right;\n",
       "    }\n",
       "</style>\n",
       "<table border=\"1\" class=\"dataframe\">\n",
       "  <thead>\n",
       "    <tr style=\"text-align: right;\">\n",
       "      <th></th>\n",
       "      <th>Age</th>\n",
       "      <th>Income</th>\n",
       "      <th>Signup_Date</th>\n",
       "      <th>Color</th>\n",
       "      <th>Score</th>\n",
       "    </tr>\n",
       "  </thead>\n",
       "  <tbody>\n",
       "    <tr>\n",
       "      <th>0</th>\n",
       "      <td>25</td>\n",
       "      <td>1000.50</td>\n",
       "      <td>2023-01-15</td>\n",
       "      <td>Red</td>\n",
       "      <td>85.0</td>\n",
       "    </tr>\n",
       "    <tr>\n",
       "      <th>1</th>\n",
       "      <td>30</td>\n",
       "      <td>1500.00</td>\n",
       "      <td>2023-02-20</td>\n",
       "      <td>Blue</td>\n",
       "      <td>90.0</td>\n",
       "    </tr>\n",
       "    <tr>\n",
       "      <th>2</th>\n",
       "      <td>35</td>\n",
       "      <td>2000.75</td>\n",
       "      <td>2023-03-25</td>\n",
       "      <td>Green</td>\n",
       "      <td>78.0</td>\n",
       "    </tr>\n",
       "    <tr>\n",
       "      <th>3</th>\n",
       "      <td>40</td>\n",
       "      <td>NaN</td>\n",
       "      <td>2023-04-30</td>\n",
       "      <td>Red</td>\n",
       "      <td>92.0</td>\n",
       "    </tr>\n",
       "    <tr>\n",
       "      <th>4</th>\n",
       "      <td>45</td>\n",
       "      <td>3000.25</td>\n",
       "      <td>2023-05-05</td>\n",
       "      <td>Blue</td>\n",
       "      <td>88.0</td>\n",
       "    </tr>\n",
       "  </tbody>\n",
       "</table>\n",
       "</div>"
      ],
      "text/plain": [
       "   Age   Income Signup_Date  Color  Score\n",
       "0   25  1000.50  2023-01-15    Red   85.0\n",
       "1   30  1500.00  2023-02-20   Blue   90.0\n",
       "2   35  2000.75  2023-03-25  Green   78.0\n",
       "3   40      NaN  2023-04-30    Red   92.0\n",
       "4   45  3000.25  2023-05-05   Blue   88.0"
      ]
     },
     "execution_count": 23,
     "metadata": {},
     "output_type": "execute_result"
    }
   ],
   "source": [
    "df"
   ]
  },
  {
   "cell_type": "code",
   "execution_count": 25,
   "id": "d02c4e77-4742-44a9-94cd-153bc3623333",
   "metadata": {},
   "outputs": [],
   "source": [
    "df['Signup_Date'] = pd.to_datetime(df['Signup_Date'])"
   ]
  },
  {
   "cell_type": "code",
   "execution_count": 26,
   "id": "57d4b500-4326-4d21-a741-b2d65010e9ec",
   "metadata": {},
   "outputs": [
    {
     "data": {
      "text/plain": [
       "Age                     int64\n",
       "Income                float64\n",
       "Signup_Date    datetime64[ns]\n",
       "Color                  object\n",
       "Score                 float64\n",
       "dtype: object"
      ]
     },
     "execution_count": 26,
     "metadata": {},
     "output_type": "execute_result"
    }
   ],
   "source": [
    "df.dtypes"
   ]
  },
  {
   "cell_type": "code",
   "execution_count": 28,
   "id": "8cca353b-dd39-41da-b965-5cc4962367aa",
   "metadata": {},
   "outputs": [
    {
     "data": {
      "text/html": [
       "<div>\n",
       "<style scoped>\n",
       "    .dataframe tbody tr th:only-of-type {\n",
       "        vertical-align: middle;\n",
       "    }\n",
       "\n",
       "    .dataframe tbody tr th {\n",
       "        vertical-align: top;\n",
       "    }\n",
       "\n",
       "    .dataframe thead th {\n",
       "        text-align: right;\n",
       "    }\n",
       "</style>\n",
       "<table border=\"1\" class=\"dataframe\">\n",
       "  <thead>\n",
       "    <tr style=\"text-align: right;\">\n",
       "      <th></th>\n",
       "      <th>Age</th>\n",
       "      <th>Income</th>\n",
       "      <th>Signup_Date</th>\n",
       "      <th>Color</th>\n",
       "      <th>Score</th>\n",
       "    </tr>\n",
       "  </thead>\n",
       "  <tbody>\n",
       "    <tr>\n",
       "      <th>0</th>\n",
       "      <td>25</td>\n",
       "      <td>1000.50</td>\n",
       "      <td>2023-01-15</td>\n",
       "      <td>Red</td>\n",
       "      <td>85.0</td>\n",
       "    </tr>\n",
       "    <tr>\n",
       "      <th>1</th>\n",
       "      <td>30</td>\n",
       "      <td>1500.00</td>\n",
       "      <td>2023-02-20</td>\n",
       "      <td>Blue</td>\n",
       "      <td>90.0</td>\n",
       "    </tr>\n",
       "    <tr>\n",
       "      <th>2</th>\n",
       "      <td>35</td>\n",
       "      <td>2000.75</td>\n",
       "      <td>2023-03-25</td>\n",
       "      <td>Green</td>\n",
       "      <td>78.0</td>\n",
       "    </tr>\n",
       "    <tr>\n",
       "      <th>3</th>\n",
       "      <td>40</td>\n",
       "      <td>NaN</td>\n",
       "      <td>2023-04-30</td>\n",
       "      <td>Red</td>\n",
       "      <td>92.0</td>\n",
       "    </tr>\n",
       "    <tr>\n",
       "      <th>4</th>\n",
       "      <td>45</td>\n",
       "      <td>3000.25</td>\n",
       "      <td>2023-05-05</td>\n",
       "      <td>Blue</td>\n",
       "      <td>88.0</td>\n",
       "    </tr>\n",
       "  </tbody>\n",
       "</table>\n",
       "</div>"
      ],
      "text/plain": [
       "   Age   Income Signup_Date  Color  Score\n",
       "0   25  1000.50  2023-01-15    Red   85.0\n",
       "1   30  1500.00  2023-02-20   Blue   90.0\n",
       "2   35  2000.75  2023-03-25  Green   78.0\n",
       "3   40      NaN  2023-04-30    Red   92.0\n",
       "4   45  3000.25  2023-05-05   Blue   88.0"
      ]
     },
     "execution_count": 28,
     "metadata": {},
     "output_type": "execute_result"
    }
   ],
   "source": [
    "df"
   ]
  },
  {
   "cell_type": "code",
   "execution_count": 32,
   "id": "38537e3e-076f-4c62-a3cf-daeba2de5540",
   "metadata": {},
   "outputs": [],
   "source": [
    "df['Year'] = df['Signup_Date'].dt.year"
   ]
  },
  {
   "cell_type": "code",
   "execution_count": 33,
   "id": "d4297b69-3e2b-4915-95bd-e5c2767a6cb9",
   "metadata": {},
   "outputs": [
    {
     "data": {
      "text/html": [
       "<div>\n",
       "<style scoped>\n",
       "    .dataframe tbody tr th:only-of-type {\n",
       "        vertical-align: middle;\n",
       "    }\n",
       "\n",
       "    .dataframe tbody tr th {\n",
       "        vertical-align: top;\n",
       "    }\n",
       "\n",
       "    .dataframe thead th {\n",
       "        text-align: right;\n",
       "    }\n",
       "</style>\n",
       "<table border=\"1\" class=\"dataframe\">\n",
       "  <thead>\n",
       "    <tr style=\"text-align: right;\">\n",
       "      <th></th>\n",
       "      <th>Age</th>\n",
       "      <th>Income</th>\n",
       "      <th>Signup_Date</th>\n",
       "      <th>Color</th>\n",
       "      <th>Score</th>\n",
       "      <th>Year</th>\n",
       "    </tr>\n",
       "  </thead>\n",
       "  <tbody>\n",
       "    <tr>\n",
       "      <th>0</th>\n",
       "      <td>25</td>\n",
       "      <td>1000.50</td>\n",
       "      <td>2023-01-15</td>\n",
       "      <td>Red</td>\n",
       "      <td>85.0</td>\n",
       "      <td>2023</td>\n",
       "    </tr>\n",
       "    <tr>\n",
       "      <th>1</th>\n",
       "      <td>30</td>\n",
       "      <td>1500.00</td>\n",
       "      <td>2023-02-20</td>\n",
       "      <td>Blue</td>\n",
       "      <td>90.0</td>\n",
       "      <td>2023</td>\n",
       "    </tr>\n",
       "    <tr>\n",
       "      <th>2</th>\n",
       "      <td>35</td>\n",
       "      <td>2000.75</td>\n",
       "      <td>2023-03-25</td>\n",
       "      <td>Green</td>\n",
       "      <td>78.0</td>\n",
       "      <td>2023</td>\n",
       "    </tr>\n",
       "    <tr>\n",
       "      <th>3</th>\n",
       "      <td>40</td>\n",
       "      <td>NaN</td>\n",
       "      <td>2023-04-30</td>\n",
       "      <td>Red</td>\n",
       "      <td>92.0</td>\n",
       "      <td>2023</td>\n",
       "    </tr>\n",
       "    <tr>\n",
       "      <th>4</th>\n",
       "      <td>45</td>\n",
       "      <td>3000.25</td>\n",
       "      <td>2023-05-05</td>\n",
       "      <td>Blue</td>\n",
       "      <td>88.0</td>\n",
       "      <td>2023</td>\n",
       "    </tr>\n",
       "  </tbody>\n",
       "</table>\n",
       "</div>"
      ],
      "text/plain": [
       "   Age   Income Signup_Date  Color  Score  Year\n",
       "0   25  1000.50  2023-01-15    Red   85.0  2023\n",
       "1   30  1500.00  2023-02-20   Blue   90.0  2023\n",
       "2   35  2000.75  2023-03-25  Green   78.0  2023\n",
       "3   40      NaN  2023-04-30    Red   92.0  2023\n",
       "4   45  3000.25  2023-05-05   Blue   88.0  2023"
      ]
     },
     "execution_count": 33,
     "metadata": {},
     "output_type": "execute_result"
    }
   ],
   "source": [
    "df"
   ]
  },
  {
   "cell_type": "code",
   "execution_count": 35,
   "id": "d9163371-550e-4911-a165-74cab57a0dfa",
   "metadata": {},
   "outputs": [],
   "source": [
    "df['Color'] = df['Color'].astype('category').cat.codes"
   ]
  },
  {
   "cell_type": "code",
   "execution_count": 36,
   "id": "7df6232d-7dbb-489b-98f8-6bd47aedbd4d",
   "metadata": {},
   "outputs": [
    {
     "data": {
      "text/html": [
       "<div>\n",
       "<style scoped>\n",
       "    .dataframe tbody tr th:only-of-type {\n",
       "        vertical-align: middle;\n",
       "    }\n",
       "\n",
       "    .dataframe tbody tr th {\n",
       "        vertical-align: top;\n",
       "    }\n",
       "\n",
       "    .dataframe thead th {\n",
       "        text-align: right;\n",
       "    }\n",
       "</style>\n",
       "<table border=\"1\" class=\"dataframe\">\n",
       "  <thead>\n",
       "    <tr style=\"text-align: right;\">\n",
       "      <th></th>\n",
       "      <th>Age</th>\n",
       "      <th>Income</th>\n",
       "      <th>Signup_Date</th>\n",
       "      <th>Color</th>\n",
       "      <th>Score</th>\n",
       "      <th>Year</th>\n",
       "    </tr>\n",
       "  </thead>\n",
       "  <tbody>\n",
       "    <tr>\n",
       "      <th>0</th>\n",
       "      <td>25</td>\n",
       "      <td>1000.50</td>\n",
       "      <td>2023-01-15</td>\n",
       "      <td>2</td>\n",
       "      <td>85.0</td>\n",
       "      <td>2023</td>\n",
       "    </tr>\n",
       "    <tr>\n",
       "      <th>1</th>\n",
       "      <td>30</td>\n",
       "      <td>1500.00</td>\n",
       "      <td>2023-02-20</td>\n",
       "      <td>0</td>\n",
       "      <td>90.0</td>\n",
       "      <td>2023</td>\n",
       "    </tr>\n",
       "    <tr>\n",
       "      <th>2</th>\n",
       "      <td>35</td>\n",
       "      <td>2000.75</td>\n",
       "      <td>2023-03-25</td>\n",
       "      <td>1</td>\n",
       "      <td>78.0</td>\n",
       "      <td>2023</td>\n",
       "    </tr>\n",
       "    <tr>\n",
       "      <th>3</th>\n",
       "      <td>40</td>\n",
       "      <td>NaN</td>\n",
       "      <td>2023-04-30</td>\n",
       "      <td>2</td>\n",
       "      <td>92.0</td>\n",
       "      <td>2023</td>\n",
       "    </tr>\n",
       "    <tr>\n",
       "      <th>4</th>\n",
       "      <td>45</td>\n",
       "      <td>3000.25</td>\n",
       "      <td>2023-05-05</td>\n",
       "      <td>0</td>\n",
       "      <td>88.0</td>\n",
       "      <td>2023</td>\n",
       "    </tr>\n",
       "  </tbody>\n",
       "</table>\n",
       "</div>"
      ],
      "text/plain": [
       "   Age   Income Signup_Date  Color  Score  Year\n",
       "0   25  1000.50  2023-01-15      2   85.0  2023\n",
       "1   30  1500.00  2023-02-20      0   90.0  2023\n",
       "2   35  2000.75  2023-03-25      1   78.0  2023\n",
       "3   40      NaN  2023-04-30      2   92.0  2023\n",
       "4   45  3000.25  2023-05-05      0   88.0  2023"
      ]
     },
     "execution_count": 36,
     "metadata": {},
     "output_type": "execute_result"
    }
   ],
   "source": [
    "df"
   ]
  },
  {
   "cell_type": "code",
   "execution_count": 39,
   "id": "96382dbc-b4a8-44e7-abec-b023284cd676",
   "metadata": {},
   "outputs": [],
   "source": [
    "# Define bins and labels\n",
    "bins = [0, 80, 90, 100]\n",
    "labels = ['Low', 'Medium', 'High']\n",
    "\n",
    "# Convert 'Score' to categorical\n",
    "df['Score_Category'] = pd.cut(df['Score'], labels = labels, bins = bins)\n"
   ]
  },
  {
   "cell_type": "code",
   "execution_count": 40,
   "id": "9283a69d-2ab7-41e1-8a57-cf2bea435b91",
   "metadata": {},
   "outputs": [
    {
     "data": {
      "text/html": [
       "<div>\n",
       "<style scoped>\n",
       "    .dataframe tbody tr th:only-of-type {\n",
       "        vertical-align: middle;\n",
       "    }\n",
       "\n",
       "    .dataframe tbody tr th {\n",
       "        vertical-align: top;\n",
       "    }\n",
       "\n",
       "    .dataframe thead th {\n",
       "        text-align: right;\n",
       "    }\n",
       "</style>\n",
       "<table border=\"1\" class=\"dataframe\">\n",
       "  <thead>\n",
       "    <tr style=\"text-align: right;\">\n",
       "      <th></th>\n",
       "      <th>Age</th>\n",
       "      <th>Income</th>\n",
       "      <th>Signup_Date</th>\n",
       "      <th>Color</th>\n",
       "      <th>Score</th>\n",
       "      <th>Year</th>\n",
       "      <th>Score_Category</th>\n",
       "    </tr>\n",
       "  </thead>\n",
       "  <tbody>\n",
       "    <tr>\n",
       "      <th>0</th>\n",
       "      <td>25</td>\n",
       "      <td>1000.50</td>\n",
       "      <td>2023-01-15</td>\n",
       "      <td>2</td>\n",
       "      <td>85.0</td>\n",
       "      <td>2023</td>\n",
       "      <td>Medium</td>\n",
       "    </tr>\n",
       "    <tr>\n",
       "      <th>1</th>\n",
       "      <td>30</td>\n",
       "      <td>1500.00</td>\n",
       "      <td>2023-02-20</td>\n",
       "      <td>0</td>\n",
       "      <td>90.0</td>\n",
       "      <td>2023</td>\n",
       "      <td>Medium</td>\n",
       "    </tr>\n",
       "    <tr>\n",
       "      <th>2</th>\n",
       "      <td>35</td>\n",
       "      <td>2000.75</td>\n",
       "      <td>2023-03-25</td>\n",
       "      <td>1</td>\n",
       "      <td>78.0</td>\n",
       "      <td>2023</td>\n",
       "      <td>Low</td>\n",
       "    </tr>\n",
       "    <tr>\n",
       "      <th>3</th>\n",
       "      <td>40</td>\n",
       "      <td>NaN</td>\n",
       "      <td>2023-04-30</td>\n",
       "      <td>2</td>\n",
       "      <td>92.0</td>\n",
       "      <td>2023</td>\n",
       "      <td>High</td>\n",
       "    </tr>\n",
       "    <tr>\n",
       "      <th>4</th>\n",
       "      <td>45</td>\n",
       "      <td>3000.25</td>\n",
       "      <td>2023-05-05</td>\n",
       "      <td>0</td>\n",
       "      <td>88.0</td>\n",
       "      <td>2023</td>\n",
       "      <td>Medium</td>\n",
       "    </tr>\n",
       "  </tbody>\n",
       "</table>\n",
       "</div>"
      ],
      "text/plain": [
       "   Age   Income Signup_Date  Color  Score  Year Score_Category\n",
       "0   25  1000.50  2023-01-15      2   85.0  2023         Medium\n",
       "1   30  1500.00  2023-02-20      0   90.0  2023         Medium\n",
       "2   35  2000.75  2023-03-25      1   78.0  2023            Low\n",
       "3   40      NaN  2023-04-30      2   92.0  2023           High\n",
       "4   45  3000.25  2023-05-05      0   88.0  2023         Medium"
      ]
     },
     "execution_count": 40,
     "metadata": {},
     "output_type": "execute_result"
    }
   ],
   "source": [
    "df"
   ]
  },
  {
   "cell_type": "code",
   "execution_count": null,
   "id": "a7a1b353-14ad-4c3c-95a6-662545f87fc5",
   "metadata": {},
   "outputs": [],
   "source": []
  }
 ],
 "metadata": {
  "kernelspec": {
   "display_name": "Python 3 (ipykernel)",
   "language": "python",
   "name": "python3"
  },
  "language_info": {
   "codemirror_mode": {
    "name": "ipython",
    "version": 3
   },
   "file_extension": ".py",
   "mimetype": "text/x-python",
   "name": "python",
   "nbconvert_exporter": "python",
   "pygments_lexer": "ipython3",
   "version": "3.12.4"
  }
 },
 "nbformat": 4,
 "nbformat_minor": 5
}

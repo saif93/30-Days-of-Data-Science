{
 "cells": [
  {
   "cell_type": "markdown",
   "id": "767b779a-954f-4274-bde0-c6a55359a876",
   "metadata": {},
   "source": [
    "## Necessary Libraries"
   ]
  },
  {
   "cell_type": "code",
   "execution_count": 1,
   "id": "887f9c8f-d80f-49f3-a1fd-67194d729288",
   "metadata": {},
   "outputs": [],
   "source": [
    "import pandas as pd\n",
    "import requests\n",
    "from bs4 import BeautifulSoup"
   ]
  },
  {
   "cell_type": "markdown",
   "id": "b1deec21-31a8-492f-b78f-320aa263200e",
   "metadata": {},
   "source": [
    "## Tesing the Request URL"
   ]
  },
  {
   "cell_type": "code",
   "execution_count": 2,
   "id": "296c0bed-6216-4f9d-a153-a3a55f7dddbf",
   "metadata": {},
   "outputs": [
    {
     "name": "stdout",
     "output_type": "stream",
     "text": [
      "<Response [200]>\n"
     ]
    }
   ],
   "source": [
    "URL = 'https://homeshopping.pk/categories/Mobile-Phones-Price-Pakistan/?page=4&AjaxRequest=1'\n",
    "r = requests.get(URL)\n",
    "print(r)"
   ]
  },
  {
   "cell_type": "markdown",
   "id": "06e53e25-2621-4e59-a4db-724f00b28d1d",
   "metadata": {},
   "source": [
    "## Analyzing the contents using Soup Object"
   ]
  },
  {
   "cell_type": "code",
   "execution_count": 3,
   "id": "f43a0ad6-6565-4ce5-9f92-2e2cec61e207",
   "metadata": {},
   "outputs": [],
   "source": [
    "soup = BeautifulSoup(r.content, 'html.parser')"
   ]
  },
  {
   "cell_type": "code",
   "execution_count": 5,
   "id": "067c9ba0-59ff-45c9-bf26-7ed4163fbac8",
   "metadata": {},
   "outputs": [],
   "source": [
    "#soup"
   ]
  },
  {
   "cell_type": "code",
   "execution_count": 19,
   "id": "eef02522-70c2-4fe8-b436-f833fc28952f",
   "metadata": {},
   "outputs": [],
   "source": [
    "#print(soup.prettify())"
   ]
  },
  {
   "cell_type": "code",
   "execution_count": 6,
   "id": "d72dc797-d3b3-4759-a828-2f7b12f6112d",
   "metadata": {},
   "outputs": [],
   "source": [
    "divs = soup.findAll(class_='innerp')"
   ]
  },
  {
   "cell_type": "code",
   "execution_count": 8,
   "id": "fa66293f-8712-4acf-ac7e-490a2df17556",
   "metadata": {},
   "outputs": [
    {
     "data": {
      "text/plain": [
       "'Itel P55 (4G 8GB 128GB Aurora Blue) With Official Warranty'"
      ]
     },
     "execution_count": 8,
     "metadata": {},
     "output_type": "execute_result"
    }
   ],
   "source": [
    "divs[0].find('h5',class_='ProductDetails').find('a').text.strip()"
   ]
  },
  {
   "cell_type": "code",
   "execution_count": 9,
   "id": "971c3f59-1554-442f-ba60-c44d4490d275",
   "metadata": {},
   "outputs": [
    {
     "data": {
      "text/plain": [
       "'Rs 23,999'"
      ]
     },
     "execution_count": 9,
     "metadata": {},
     "output_type": "execute_result"
    }
   ],
   "source": [
    "divs[0].find('div', class_='ActualPrice').text.strip()"
   ]
  },
  {
   "cell_type": "code",
   "execution_count": 10,
   "id": "866c291e-0bfb-4242-94c3-ab9c3cca9818",
   "metadata": {},
   "outputs": [
    {
     "data": {
      "text/plain": [
       "'https://homeshopping.pk/products/Itel-P55-8GB-128GB-Aurora-Blue-Price-in-Pakistan.html'"
      ]
     },
     "execution_count": 10,
     "metadata": {},
     "output_type": "execute_result"
    }
   ],
   "source": [
    "divs[0].find(class_=\"ProductDetails\").find('a').get('href')"
   ]
  },
  {
   "cell_type": "code",
   "execution_count": 11,
   "id": "4feebc28-b0cb-4e74-b557-9aa843cc4117",
   "metadata": {},
   "outputs": [
    {
     "data": {
      "text/plain": [
       "'350679'"
      ]
     },
     "execution_count": 11,
     "metadata": {},
     "output_type": "execute_result"
    }
   ],
   "source": [
    "divs[0].find('span',class_='total_sold_count').get('data-product_id')"
   ]
  },
  {
   "cell_type": "code",
   "execution_count": 12,
   "id": "987867a0-cdbd-4bb3-879c-2deddd106424",
   "metadata": {},
   "outputs": [
    {
     "data": {
      "text/plain": [
       "'https://cdn.homeshopping.pk/product_images/o/528/itel-P55-Aurora-Blue-1__30083_thumb.png'"
      ]
     },
     "execution_count": 12,
     "metadata": {},
     "output_type": "execute_result"
    }
   ],
   "source": [
    "divs[0].find('img',class_='img-responsive').get('data-src')"
   ]
  },
  {
   "cell_type": "markdown",
   "id": "69863963-cb19-45c6-8773-b679502ed4f6",
   "metadata": {},
   "source": [
    "## Creating a Data Frame to Store the Extracted Data"
   ]
  },
  {
   "cell_type": "code",
   "execution_count": 13,
   "id": "1f7daebe-0aa5-4dc5-b232-4d27a44b1aee",
   "metadata": {},
   "outputs": [],
   "source": [
    "product_data = pd.DataFrame(columns=['ID', 'Name', 'Price','URL', 'IMG'])"
   ]
  },
  {
   "cell_type": "markdown",
   "id": "85e95175-939e-41f4-ad2a-084076053ca8",
   "metadata": {},
   "source": [
    "## Web Scrapper for Dynamic Website"
   ]
  },
  {
   "cell_type": "code",
   "execution_count": 15,
   "id": "85c36cdb-c4dd-46ef-8ccb-0c38b5a9fbce",
   "metadata": {},
   "outputs": [
    {
     "name": "stdout",
     "output_type": "stream",
     "text": [
      "Request Sent at:  https://homeshopping.pk/categories/Mobile-Phones-Price-Pakistan/?page=1&AjaxRequest=1\n",
      "Request Sent at:  https://homeshopping.pk/categories/Mobile-Phones-Price-Pakistan/?page=2&AjaxRequest=1\n",
      "Request Sent at:  https://homeshopping.pk/categories/Mobile-Phones-Price-Pakistan/?page=3&AjaxRequest=1\n",
      "Request Sent at:  https://homeshopping.pk/categories/Mobile-Phones-Price-Pakistan/?page=4&AjaxRequest=1\n",
      "Request Sent at:  https://homeshopping.pk/categories/Mobile-Phones-Price-Pakistan/?page=5&AjaxRequest=1\n",
      "Request Sent at:  https://homeshopping.pk/categories/Mobile-Phones-Price-Pakistan/?page=6&AjaxRequest=1\n",
      "Request Sent at:  https://homeshopping.pk/categories/Mobile-Phones-Price-Pakistan/?page=7&AjaxRequest=1\n",
      "Request Sent at:  https://homeshopping.pk/categories/Mobile-Phones-Price-Pakistan/?page=8&AjaxRequest=1\n",
      "Request Sent at:  https://homeshopping.pk/categories/Mobile-Phones-Price-Pakistan/?page=9&AjaxRequest=1\n",
      "Request Sent at:  https://homeshopping.pk/categories/Mobile-Phones-Price-Pakistan/?page=10&AjaxRequest=1\n",
      "Request Sent at:  https://homeshopping.pk/categories/Mobile-Phones-Price-Pakistan/?page=11&AjaxRequest=1\n"
     ]
    }
   ],
   "source": [
    "counter = 1\n",
    "while (True):\n",
    "    URL = 'https://homeshopping.pk/categories/Mobile-Phones-Price-Pakistan/?page='+str(counter)+'&AjaxRequest=1'\n",
    "    r = requests.get(URL)\n",
    "    print('Request Sent at: ', URL)\n",
    "    soup = BeautifulSoup(r.content, 'html.parser')\n",
    "    divs = soup.findAll(class_='innerp')\n",
    "    if(len(divs)>=1):\n",
    "        for div in divs:\n",
    "            new_data = {'ID': div.find('span',class_='total_sold_count').get('data-product_id'),\n",
    "                        'Name': div.find(class_=\"ProductDetails\").find('a').text,\n",
    "                        'Price': div.find('div',class_='ActualPrice').text.strip(),\n",
    "                        'URL': div.find(class_=\"ProductDetails\").find('a').get('href'), \n",
    "                        'IMG': div.find('img',class_='img-responsive').get('data-src')}\n",
    "            # Append the new data to the DataFrame\n",
    "            new_df = pd.DataFrame([new_data])\n",
    "            product_data = pd.concat([product_data,new_df], ignore_index=True)\n",
    "        counter+=1\n",
    "    else:\n",
    "        break\n",
    "    "
   ]
  },
  {
   "cell_type": "code",
   "execution_count": 16,
   "id": "92b99ffd-62d6-456b-8fe6-80bf9af05bf5",
   "metadata": {},
   "outputs": [
    {
     "data": {
      "text/html": [
       "<div>\n",
       "<style scoped>\n",
       "    .dataframe tbody tr th:only-of-type {\n",
       "        vertical-align: middle;\n",
       "    }\n",
       "\n",
       "    .dataframe tbody tr th {\n",
       "        vertical-align: top;\n",
       "    }\n",
       "\n",
       "    .dataframe thead th {\n",
       "        text-align: right;\n",
       "    }\n",
       "</style>\n",
       "<table border=\"1\" class=\"dataframe\">\n",
       "  <thead>\n",
       "    <tr style=\"text-align: right;\">\n",
       "      <th></th>\n",
       "      <th>ID</th>\n",
       "      <th>Name</th>\n",
       "      <th>Price</th>\n",
       "      <th>URL</th>\n",
       "      <th>IMG</th>\n",
       "    </tr>\n",
       "  </thead>\n",
       "  <tbody>\n",
       "    <tr>\n",
       "      <th>0</th>\n",
       "      <td>349435</td>\n",
       "      <td>Tecno Spark Go 2024 (4G 4GB 64GB Magic Skin) W...</td>\n",
       "      <td>Rs 23,999</td>\n",
       "      <td>https://homeshopping.pk/products/Tecno-Spark-G...</td>\n",
       "      <td>https://cdn.homeshopping.pk/product_images/s/6...</td>\n",
       "    </tr>\n",
       "    <tr>\n",
       "      <th>1</th>\n",
       "      <td>347821</td>\n",
       "      <td>Dcode Cygnal 3 (4G 4GB 64GB Berry Purple) With...</td>\n",
       "      <td>Rs 20,999</td>\n",
       "      <td>https://homeshopping.pk/products/Dcode-Cygnal-...</td>\n",
       "      <td>https://cdn.homeshopping.pk/product_images/t/9...</td>\n",
       "    </tr>\n",
       "    <tr>\n",
       "      <th>2</th>\n",
       "      <td>347065</td>\n",
       "      <td>Tecno Pop 7 (4G 2GB 64GB Capri Blue) - With Of...</td>\n",
       "      <td>Rs 19,399</td>\n",
       "      <td>https://homeshopping.pk/products/Tecno-Pop-7-4...</td>\n",
       "      <td>https://cdn.homeshopping.pk/product_images/y/8...</td>\n",
       "    </tr>\n",
       "    <tr>\n",
       "      <th>3</th>\n",
       "      <td>350415</td>\n",
       "      <td>Tecno Spark 20 Pro (4G 8GB 256GB Sunset Blush)...</td>\n",
       "      <td>Rs 39,499</td>\n",
       "      <td>https://homeshopping.pk/products/Tecno-Spark-2...</td>\n",
       "      <td>https://cdn.homeshopping.pk/product_images/c/4...</td>\n",
       "    </tr>\n",
       "    <tr>\n",
       "      <th>4</th>\n",
       "      <td>347394</td>\n",
       "      <td>Infinix Smart 7 HD (4G 2GB 64GB Silk Blue) - W...</td>\n",
       "      <td>Rs 19,499</td>\n",
       "      <td>https://homeshopping.pk/products/Infinix-Smart...</td>\n",
       "      <td>https://cdn.homeshopping.pk/product_images/v/3...</td>\n",
       "    </tr>\n",
       "    <tr>\n",
       "      <th>...</th>\n",
       "      <td>...</td>\n",
       "      <td>...</td>\n",
       "      <td>...</td>\n",
       "      <td>...</td>\n",
       "      <td>...</td>\n",
       "    </tr>\n",
       "    <tr>\n",
       "      <th>228</th>\n",
       "      <td>350378</td>\n",
       "      <td>Honor X8b (4G 8GB 512GB Titanium Silver) With ...</td>\n",
       "      <td>Rs 74,559</td>\n",
       "      <td>https://homeshopping.pk/products/Honor-X8b-8GB...</td>\n",
       "      <td>https://cdn.homeshopping.pk/product_images/t/2...</td>\n",
       "    </tr>\n",
       "    <tr>\n",
       "      <th>229</th>\n",
       "      <td>350549</td>\n",
       "      <td>OnePlus 12 Dual (5G 12GB 256GB White) - Non PTA</td>\n",
       "      <td>Rs 187,499</td>\n",
       "      <td>https://homeshopping.pk/products/OnePlus-12-Wh...</td>\n",
       "      <td>https://cdn.homeshopping.pk/product_images/x/4...</td>\n",
       "    </tr>\n",
       "    <tr>\n",
       "      <th>230</th>\n",
       "      <td>350113</td>\n",
       "      <td>Xiaomi Redmi Note 13 Pro (4G 8GB 512GB Midnigh...</td>\n",
       "      <td>Rs 80,999</td>\n",
       "      <td>https://homeshopping.pk/products/Xiaomi-Redmi-...</td>\n",
       "      <td>https://cdn.homeshopping.pk/product_images/m/0...</td>\n",
       "    </tr>\n",
       "    <tr>\n",
       "      <th>231</th>\n",
       "      <td>345564</td>\n",
       "      <td>Infinix Smart 7 (4G 4GB 64GB Iceland White) - ...</td>\n",
       "      <td>Rs 26,199</td>\n",
       "      <td>https://homeshopping.pk/products/Infinix-Smart...</td>\n",
       "      <td>https://cdn.homeshopping.pk/product_images/u/7...</td>\n",
       "    </tr>\n",
       "    <tr>\n",
       "      <th>232</th>\n",
       "      <td>347822</td>\n",
       "      <td>Dcode Cygnal 3 (4G 4GB 64GB Arctic White) With...</td>\n",
       "      <td>Rs 20,999</td>\n",
       "      <td>https://homeshopping.pk/products/Dcode-Cygnal-...</td>\n",
       "      <td>https://cdn.homeshopping.pk/product_images/j/4...</td>\n",
       "    </tr>\n",
       "  </tbody>\n",
       "</table>\n",
       "<p>233 rows × 5 columns</p>\n",
       "</div>"
      ],
      "text/plain": [
       "         ID                                               Name       Price  \\\n",
       "0    349435  Tecno Spark Go 2024 (4G 4GB 64GB Magic Skin) W...   Rs 23,999   \n",
       "1    347821  Dcode Cygnal 3 (4G 4GB 64GB Berry Purple) With...   Rs 20,999   \n",
       "2    347065  Tecno Pop 7 (4G 2GB 64GB Capri Blue) - With Of...   Rs 19,399   \n",
       "3    350415  Tecno Spark 20 Pro (4G 8GB 256GB Sunset Blush)...   Rs 39,499   \n",
       "4    347394  Infinix Smart 7 HD (4G 2GB 64GB Silk Blue) - W...   Rs 19,499   \n",
       "..      ...                                                ...         ...   \n",
       "228  350378  Honor X8b (4G 8GB 512GB Titanium Silver) With ...   Rs 74,559   \n",
       "229  350549    OnePlus 12 Dual (5G 12GB 256GB White) - Non PTA  Rs 187,499   \n",
       "230  350113  Xiaomi Redmi Note 13 Pro (4G 8GB 512GB Midnigh...   Rs 80,999   \n",
       "231  345564  Infinix Smart 7 (4G 4GB 64GB Iceland White) - ...   Rs 26,199   \n",
       "232  347822  Dcode Cygnal 3 (4G 4GB 64GB Arctic White) With...   Rs 20,999   \n",
       "\n",
       "                                                   URL  \\\n",
       "0    https://homeshopping.pk/products/Tecno-Spark-G...   \n",
       "1    https://homeshopping.pk/products/Dcode-Cygnal-...   \n",
       "2    https://homeshopping.pk/products/Tecno-Pop-7-4...   \n",
       "3    https://homeshopping.pk/products/Tecno-Spark-2...   \n",
       "4    https://homeshopping.pk/products/Infinix-Smart...   \n",
       "..                                                 ...   \n",
       "228  https://homeshopping.pk/products/Honor-X8b-8GB...   \n",
       "229  https://homeshopping.pk/products/OnePlus-12-Wh...   \n",
       "230  https://homeshopping.pk/products/Xiaomi-Redmi-...   \n",
       "231  https://homeshopping.pk/products/Infinix-Smart...   \n",
       "232  https://homeshopping.pk/products/Dcode-Cygnal-...   \n",
       "\n",
       "                                                   IMG  \n",
       "0    https://cdn.homeshopping.pk/product_images/s/6...  \n",
       "1    https://cdn.homeshopping.pk/product_images/t/9...  \n",
       "2    https://cdn.homeshopping.pk/product_images/y/8...  \n",
       "3    https://cdn.homeshopping.pk/product_images/c/4...  \n",
       "4    https://cdn.homeshopping.pk/product_images/v/3...  \n",
       "..                                                 ...  \n",
       "228  https://cdn.homeshopping.pk/product_images/t/2...  \n",
       "229  https://cdn.homeshopping.pk/product_images/x/4...  \n",
       "230  https://cdn.homeshopping.pk/product_images/m/0...  \n",
       "231  https://cdn.homeshopping.pk/product_images/u/7...  \n",
       "232  https://cdn.homeshopping.pk/product_images/j/4...  \n",
       "\n",
       "[233 rows x 5 columns]"
      ]
     },
     "execution_count": 16,
     "metadata": {},
     "output_type": "execute_result"
    }
   ],
   "source": [
    "product_data"
   ]
  },
  {
   "cell_type": "code",
   "execution_count": 17,
   "id": "e14f5e10-b608-4e59-b7dc-e29caff96cad",
   "metadata": {},
   "outputs": [
    {
     "data": {
      "text/html": [
       "<div>\n",
       "<style scoped>\n",
       "    .dataframe tbody tr th:only-of-type {\n",
       "        vertical-align: middle;\n",
       "    }\n",
       "\n",
       "    .dataframe tbody tr th {\n",
       "        vertical-align: top;\n",
       "    }\n",
       "\n",
       "    .dataframe thead th {\n",
       "        text-align: right;\n",
       "    }\n",
       "</style>\n",
       "<table border=\"1\" class=\"dataframe\">\n",
       "  <thead>\n",
       "    <tr style=\"text-align: right;\">\n",
       "      <th></th>\n",
       "      <th>ID</th>\n",
       "      <th>Name</th>\n",
       "      <th>Price</th>\n",
       "      <th>URL</th>\n",
       "      <th>IMG</th>\n",
       "    </tr>\n",
       "  </thead>\n",
       "  <tbody>\n",
       "    <tr>\n",
       "      <th>count</th>\n",
       "      <td>233</td>\n",
       "      <td>233</td>\n",
       "      <td>233</td>\n",
       "      <td>233</td>\n",
       "      <td>233</td>\n",
       "    </tr>\n",
       "    <tr>\n",
       "      <th>unique</th>\n",
       "      <td>233</td>\n",
       "      <td>233</td>\n",
       "      <td>111</td>\n",
       "      <td>233</td>\n",
       "      <td>233</td>\n",
       "    </tr>\n",
       "    <tr>\n",
       "      <th>top</th>\n",
       "      <td>349435</td>\n",
       "      <td>Tecno Spark Go 2024 (4G 4GB 64GB Magic Skin) W...</td>\n",
       "      <td>Rs 23,999</td>\n",
       "      <td>https://homeshopping.pk/products/Tecno-Spark-G...</td>\n",
       "      <td>https://cdn.homeshopping.pk/product_images/s/6...</td>\n",
       "    </tr>\n",
       "    <tr>\n",
       "      <th>freq</th>\n",
       "      <td>1</td>\n",
       "      <td>1</td>\n",
       "      <td>9</td>\n",
       "      <td>1</td>\n",
       "      <td>1</td>\n",
       "    </tr>\n",
       "  </tbody>\n",
       "</table>\n",
       "</div>"
      ],
      "text/plain": [
       "            ID                                               Name      Price  \\\n",
       "count      233                                                233        233   \n",
       "unique     233                                                233        111   \n",
       "top     349435  Tecno Spark Go 2024 (4G 4GB 64GB Magic Skin) W...  Rs 23,999   \n",
       "freq         1                                                  1          9   \n",
       "\n",
       "                                                      URL  \\\n",
       "count                                                 233   \n",
       "unique                                                233   \n",
       "top     https://homeshopping.pk/products/Tecno-Spark-G...   \n",
       "freq                                                    1   \n",
       "\n",
       "                                                      IMG  \n",
       "count                                                 233  \n",
       "unique                                                233  \n",
       "top     https://cdn.homeshopping.pk/product_images/s/6...  \n",
       "freq                                                    1  "
      ]
     },
     "execution_count": 17,
     "metadata": {},
     "output_type": "execute_result"
    }
   ],
   "source": [
    "product_data.describe()"
   ]
  },
  {
   "cell_type": "markdown",
   "id": "f69edeff-2d6a-4275-96ef-d541b819a0e6",
   "metadata": {},
   "source": [
    "## Exporting the data to a CSV File"
   ]
  },
  {
   "cell_type": "code",
   "execution_count": 36,
   "id": "c4c78477-58e9-43d8-94db-9b197c5b8b8b",
   "metadata": {},
   "outputs": [],
   "source": [
    "product_data.to_csv('product_data.csv')"
   ]
  }
 ],
 "metadata": {
  "kernelspec": {
   "display_name": "Python 3 (ipykernel)",
   "language": "python",
   "name": "python3"
  },
  "language_info": {
   "codemirror_mode": {
    "name": "ipython",
    "version": 3
   },
   "file_extension": ".py",
   "mimetype": "text/x-python",
   "name": "python",
   "nbconvert_exporter": "python",
   "pygments_lexer": "ipython3",
   "version": "3.12.4"
  }
 },
 "nbformat": 4,
 "nbformat_minor": 5
}

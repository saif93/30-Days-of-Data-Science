{
 "cells": [
  {
   "cell_type": "code",
   "execution_count": 2,
   "id": "887f9c8f-d80f-49f3-a1fd-67194d729288",
   "metadata": {},
   "outputs": [],
   "source": [
    "import pandas as pd\n",
    "import requests\n",
    "from bs4 import BeautifulSoup"
   ]
  },
  {
   "cell_type": "code",
   "execution_count": 6,
   "id": "296c0bed-6216-4f9d-a153-a3a55f7dddbf",
   "metadata": {},
   "outputs": [
    {
     "name": "stdout",
     "output_type": "stream",
     "text": [
      "<Response [200]>\n"
     ]
    }
   ],
   "source": [
    "URL = 'https://homeshopping.pk/categories/Mobile-Phones-Price-Pakistan/'\n",
    "r = requests.get(URL)\n",
    "print(r)"
   ]
  },
  {
   "cell_type": "code",
   "execution_count": 7,
   "id": "f43a0ad6-6565-4ce5-9f92-2e2cec61e207",
   "metadata": {},
   "outputs": [],
   "source": [
    "soup = BeautifulSoup(r.content, 'html.parser')"
   ]
  },
  {
   "cell_type": "code",
   "execution_count": 19,
   "id": "eef02522-70c2-4fe8-b436-f833fc28952f",
   "metadata": {},
   "outputs": [],
   "source": [
    "#print(soup.prettify())"
   ]
  },
  {
   "cell_type": "code",
   "execution_count": 14,
   "id": "d72dc797-d3b3-4759-a828-2f7b12f6112d",
   "metadata": {},
   "outputs": [],
   "source": [
    "divs = soup.find(class_='row ProductsList').findAll(class_='innerp')"
   ]
  },
  {
   "cell_type": "code",
   "execution_count": 23,
   "id": "fa66293f-8712-4acf-ac7e-490a2df17556",
   "metadata": {},
   "outputs": [
    {
     "data": {
      "text/plain": [
       "'Tecno Spark Go 2024 (4G 4GB 64GB Magic Skin) With Official Warranty'"
      ]
     },
     "execution_count": 23,
     "metadata": {},
     "output_type": "execute_result"
    }
   ],
   "source": [
    "divs[0].find('h5',class_='ProductDetails').find('a').text.strip()"
   ]
  },
  {
   "cell_type": "code",
   "execution_count": 27,
   "id": "971c3f59-1554-442f-ba60-c44d4490d275",
   "metadata": {},
   "outputs": [
    {
     "data": {
      "text/plain": [
       "'Rs 23,999'"
      ]
     },
     "execution_count": 27,
     "metadata": {},
     "output_type": "execute_result"
    }
   ],
   "source": [
    "divs[0].find('div', class_='ActualPrice').text.strip()"
   ]
  },
  {
   "cell_type": "code",
   "execution_count": 28,
   "id": "866c291e-0bfb-4242-94c3-ab9c3cca9818",
   "metadata": {},
   "outputs": [
    {
     "data": {
      "text/plain": [
       "'https://homeshopping.pk/products/Tecno-Spark-Go-2024-64GB-Magic-Skin-Price-in-Pakistan.html'"
      ]
     },
     "execution_count": 28,
     "metadata": {},
     "output_type": "execute_result"
    }
   ],
   "source": [
    "divs[0].find(class_=\"ProductDetails\").find('a').get('href')"
   ]
  },
  {
   "cell_type": "code",
   "execution_count": 29,
   "id": "4feebc28-b0cb-4e74-b557-9aa843cc4117",
   "metadata": {},
   "outputs": [
    {
     "data": {
      "text/plain": [
       "'349435'"
      ]
     },
     "execution_count": 29,
     "metadata": {},
     "output_type": "execute_result"
    }
   ],
   "source": [
    "divs[0].find('span',class_='total_sold_count').get('data-product_id')"
   ]
  },
  {
   "cell_type": "code",
   "execution_count": 31,
   "id": "987867a0-cdbd-4bb3-879c-2deddd106424",
   "metadata": {},
   "outputs": [
    {
     "data": {
      "text/plain": [
       "'https://cdn.homeshopping.pk/product_images/s/691/Tecno-Spark-Go-2024-Magic-Skin-1__85207_thumb.png'"
      ]
     },
     "execution_count": 31,
     "metadata": {},
     "output_type": "execute_result"
    }
   ],
   "source": [
    "divs[0].find('img',class_='img-responsive').get('data-src')"
   ]
  },
  {
   "cell_type": "code",
   "execution_count": 32,
   "id": "1f7daebe-0aa5-4dc5-b232-4d27a44b1aee",
   "metadata": {},
   "outputs": [],
   "source": [
    "product_data = pd.DataFrame(columns=['ID', 'Name', 'Price','URL', 'IMG'])"
   ]
  },
  {
   "cell_type": "code",
   "execution_count": 34,
   "id": "85c36cdb-c4dd-46ef-8ccb-0c38b5a9fbce",
   "metadata": {},
   "outputs": [],
   "source": [
    "for div in divs:\n",
    "    new_data = {'ID': div.find('span',class_='total_sold_count').get('data-product_id'),\n",
    "                'Name': div.find(class_=\"ProductDetails\").find('a').text,\n",
    "                'Price': div.find('div',class_='ActualPrice').text.strip(),\n",
    "                'URL': div.find(class_=\"ProductDetails\").find('a').get('href'), \n",
    "                'IMG': div.find('img',class_='img-responsive').get('data-src')}\n",
    "    # Append the new data to the DataFrame\n",
    "    new_df = pd.DataFrame([new_data])\n",
    "    product_data = pd.concat([product_data,new_df], ignore_index=True)\n",
    "    "
   ]
  },
  {
   "cell_type": "code",
   "execution_count": 35,
   "id": "92b99ffd-62d6-456b-8fe6-80bf9af05bf5",
   "metadata": {},
   "outputs": [
    {
     "data": {
      "text/html": [
       "<div>\n",
       "<style scoped>\n",
       "    .dataframe tbody tr th:only-of-type {\n",
       "        vertical-align: middle;\n",
       "    }\n",
       "\n",
       "    .dataframe tbody tr th {\n",
       "        vertical-align: top;\n",
       "    }\n",
       "\n",
       "    .dataframe thead th {\n",
       "        text-align: right;\n",
       "    }\n",
       "</style>\n",
       "<table border=\"1\" class=\"dataframe\">\n",
       "  <thead>\n",
       "    <tr style=\"text-align: right;\">\n",
       "      <th></th>\n",
       "      <th>ID</th>\n",
       "      <th>Name</th>\n",
       "      <th>Price</th>\n",
       "      <th>URL</th>\n",
       "      <th>IMG</th>\n",
       "    </tr>\n",
       "  </thead>\n",
       "  <tbody>\n",
       "    <tr>\n",
       "      <th>0</th>\n",
       "      <td>349435</td>\n",
       "      <td>Tecno Spark Go 2024 (4G 4GB 64GB Magic Skin) W...</td>\n",
       "      <td>Rs 23,999</td>\n",
       "      <td>https://homeshopping.pk/products/Tecno-Spark-G...</td>\n",
       "      <td>https://cdn.homeshopping.pk/product_images/s/6...</td>\n",
       "    </tr>\n",
       "    <tr>\n",
       "      <th>1</th>\n",
       "      <td>347821</td>\n",
       "      <td>Dcode Cygnal 3 (4G 4GB 64GB Berry Purple) With...</td>\n",
       "      <td>Rs 20,999</td>\n",
       "      <td>https://homeshopping.pk/products/Dcode-Cygnal-...</td>\n",
       "      <td>https://cdn.homeshopping.pk/product_images/t/9...</td>\n",
       "    </tr>\n",
       "    <tr>\n",
       "      <th>2</th>\n",
       "      <td>347065</td>\n",
       "      <td>Tecno Pop 7 (4G 2GB 64GB Capri Blue) - With Of...</td>\n",
       "      <td>Rs 19,399</td>\n",
       "      <td>https://homeshopping.pk/products/Tecno-Pop-7-4...</td>\n",
       "      <td>https://cdn.homeshopping.pk/product_images/y/8...</td>\n",
       "    </tr>\n",
       "    <tr>\n",
       "      <th>3</th>\n",
       "      <td>350415</td>\n",
       "      <td>Tecno Spark 20 Pro (4G 8GB 256GB Sunset Blush)...</td>\n",
       "      <td>Rs 39,499</td>\n",
       "      <td>https://homeshopping.pk/products/Tecno-Spark-2...</td>\n",
       "      <td>https://cdn.homeshopping.pk/product_images/c/4...</td>\n",
       "    </tr>\n",
       "    <tr>\n",
       "      <th>4</th>\n",
       "      <td>347394</td>\n",
       "      <td>Infinix Smart 7 HD (4G 2GB 64GB Silk Blue) - W...</td>\n",
       "      <td>Rs 19,499</td>\n",
       "      <td>https://homeshopping.pk/products/Infinix-Smart...</td>\n",
       "      <td>https://cdn.homeshopping.pk/product_images/v/3...</td>\n",
       "    </tr>\n",
       "    <tr>\n",
       "      <th>5</th>\n",
       "      <td>349432</td>\n",
       "      <td>Tecno Spark Go 2024 (4G 4GB 64GB Mystery White...</td>\n",
       "      <td>Rs 23,999</td>\n",
       "      <td>https://homeshopping.pk/products/Tecno-Spark-G...</td>\n",
       "      <td>https://cdn.homeshopping.pk/product_images/r/8...</td>\n",
       "    </tr>\n",
       "    <tr>\n",
       "      <th>6</th>\n",
       "      <td>345670</td>\n",
       "      <td>Xiaomi Redmi Note 12 (4G 8GB 128GB Mint Green)...</td>\n",
       "      <td>Rs 43,499</td>\n",
       "      <td>https://homeshopping.pk/products/Xiaomi-Redmi-...</td>\n",
       "      <td>https://cdn.homeshopping.pk/product_images/s/1...</td>\n",
       "    </tr>\n",
       "    <tr>\n",
       "      <th>7</th>\n",
       "      <td>347533</td>\n",
       "      <td>Samsung Galaxy A34 (5G 8GB 256GB Awesome Graph...</td>\n",
       "      <td>Rs 87,499</td>\n",
       "      <td>https://homeshopping.pk/products/Samsung-Galax...</td>\n",
       "      <td>https://cdn.homeshopping.pk/product_images/f/0...</td>\n",
       "    </tr>\n",
       "    <tr>\n",
       "      <th>8</th>\n",
       "      <td>349257</td>\n",
       "      <td>Xiaomi Redmi 13C (4G 6GB 128GB Clover Green) W...</td>\n",
       "      <td>Rs 31,499</td>\n",
       "      <td>https://homeshopping.pk/products/Xiaomi-Redmi-...</td>\n",
       "      <td>https://cdn.homeshopping.pk/product_images/i/0...</td>\n",
       "    </tr>\n",
       "    <tr>\n",
       "      <th>9</th>\n",
       "      <td>345563</td>\n",
       "      <td>Infinix Smart 7 (4G 4GB 64GB Peacock Blue) - W...</td>\n",
       "      <td>Rs 25,699</td>\n",
       "      <td>https://homeshopping.pk/products/Infinix-Smart...</td>\n",
       "      <td>https://cdn.homeshopping.pk/product_images/k/4...</td>\n",
       "    </tr>\n",
       "    <tr>\n",
       "      <th>10</th>\n",
       "      <td>349258</td>\n",
       "      <td>Xiaomi Redmi 13C (4G 6GB 128GB Glacier White) ...</td>\n",
       "      <td>Rs 31,499</td>\n",
       "      <td>https://homeshopping.pk/products/Xiaomi-Redmi-...</td>\n",
       "      <td>https://cdn.homeshopping.pk/product_images/w/7...</td>\n",
       "    </tr>\n",
       "    <tr>\n",
       "      <th>11</th>\n",
       "      <td>342738</td>\n",
       "      <td>Vivo Y22 (4G 4GB 64GB Blue) With Official Warr...</td>\n",
       "      <td>Rs 33,090</td>\n",
       "      <td>https://homeshopping.pk/products/Vivo-Y22-4G-4...</td>\n",
       "      <td>https://cdn.homeshopping.pk/product_images/v/1...</td>\n",
       "    </tr>\n",
       "    <tr>\n",
       "      <th>12</th>\n",
       "      <td>348247</td>\n",
       "      <td>Infinix Hot 30 (4G 8GB 128GB Sonic White) With...</td>\n",
       "      <td>Rs 32,499</td>\n",
       "      <td>https://homeshopping.pk/products/Infinix-Hot-3...</td>\n",
       "      <td>https://cdn.homeshopping.pk/product_images/h/0...</td>\n",
       "    </tr>\n",
       "    <tr>\n",
       "      <th>13</th>\n",
       "      <td>349653</td>\n",
       "      <td>Infinix Hot 40i (4G 8GB 128GB Starlit Black) W...</td>\n",
       "      <td>Rs 29,999</td>\n",
       "      <td>https://homeshopping.pk/products/Infinix-Hot-4...</td>\n",
       "      <td>https://cdn.homeshopping.pk/product_images/m/9...</td>\n",
       "    </tr>\n",
       "    <tr>\n",
       "      <th>14</th>\n",
       "      <td>349467</td>\n",
       "      <td>Infinix Hot 40 (4G 8GB 256GB Starlit Black) Wi...</td>\n",
       "      <td>Rs 35,999</td>\n",
       "      <td>https://homeshopping.pk/products/Infinix-Hot-4...</td>\n",
       "      <td>https://cdn.homeshopping.pk/product_images/i/2...</td>\n",
       "    </tr>\n",
       "    <tr>\n",
       "      <th>15</th>\n",
       "      <td>350402</td>\n",
       "      <td>Realme Note 50 (4G 4GB 64GB Midnight Black) Wi...</td>\n",
       "      <td>Rs 24,499</td>\n",
       "      <td>https://homeshopping.pk/products/Realme-Note-5...</td>\n",
       "      <td>https://cdn.homeshopping.pk/product_images/o/9...</td>\n",
       "    </tr>\n",
       "    <tr>\n",
       "      <th>16</th>\n",
       "      <td>349506</td>\n",
       "      <td>Tecno Spark 20 (4G 8GB 256GB Neon Gold) With O...</td>\n",
       "      <td>Rs 33,999</td>\n",
       "      <td>https://homeshopping.pk/products/Tecno-Spark-2...</td>\n",
       "      <td>https://cdn.homeshopping.pk/product_images/r/0...</td>\n",
       "    </tr>\n",
       "    <tr>\n",
       "      <th>17</th>\n",
       "      <td>349532</td>\n",
       "      <td>Infinix Smart 8 Plus (4G 4GB 64GB Timber Black...</td>\n",
       "      <td>Rs 24,699</td>\n",
       "      <td>https://homeshopping.pk/products/Infinix-Smart...</td>\n",
       "      <td>https://cdn.homeshopping.pk/product_images/y/3...</td>\n",
       "    </tr>\n",
       "    <tr>\n",
       "      <th>18</th>\n",
       "      <td>349988</td>\n",
       "      <td>Samsung Galaxy A15 (4G 8GB 256GB Light Blue) W...</td>\n",
       "      <td>Rs 56,499</td>\n",
       "      <td>https://homeshopping.pk/products/Samsung-Galax...</td>\n",
       "      <td>https://cdn.homeshopping.pk/product_images/s/5...</td>\n",
       "    </tr>\n",
       "    <tr>\n",
       "      <th>19</th>\n",
       "      <td>350559</td>\n",
       "      <td>Xiaomi Redmi A3 (4G 4GB 64GB Olive Green) With...</td>\n",
       "      <td>Rs 22,699</td>\n",
       "      <td>https://homeshopping.pk/products/Xiaomi-Redmi-...</td>\n",
       "      <td>https://cdn.homeshopping.pk/product_images/c/2...</td>\n",
       "    </tr>\n",
       "    <tr>\n",
       "      <th>20</th>\n",
       "      <td>343256</td>\n",
       "      <td>Vivo Y16 (4G 4GB 64GB Stellar Black) - With Of...</td>\n",
       "      <td>Rs 33,999</td>\n",
       "      <td>https://homeshopping.pk/products/Vivo-Y16-4G-4...</td>\n",
       "      <td>https://cdn.homeshopping.pk/product_images/r/3...</td>\n",
       "    </tr>\n",
       "    <tr>\n",
       "      <th>21</th>\n",
       "      <td>349466</td>\n",
       "      <td>Infinix Smart 8 Plus (4G 4GB 64GB Galaxy White...</td>\n",
       "      <td>Rs 24,499</td>\n",
       "      <td>https://homeshopping.pk/products/Infinix-Smart...</td>\n",
       "      <td>https://cdn.homeshopping.pk/product_images/v/7...</td>\n",
       "    </tr>\n",
       "    <tr>\n",
       "      <th>22</th>\n",
       "      <td>344188</td>\n",
       "      <td>OnePlus Ace 2 (5G 12GB 256GB Glacier Blue) - N...</td>\n",
       "      <td>Rs 133,999</td>\n",
       "      <td>https://homeshopping.pk/products/OnePlus-Ace-2...</td>\n",
       "      <td>https://cdn.homeshopping.pk/product_images/q/6...</td>\n",
       "    </tr>\n",
       "    <tr>\n",
       "      <th>23</th>\n",
       "      <td>349468</td>\n",
       "      <td>Infinix Hot 40 (4G 8GB 256GB Horizon Gold) Wit...</td>\n",
       "      <td>Rs 35,999</td>\n",
       "      <td>https://homeshopping.pk/products/Infinix-Hot-4...</td>\n",
       "      <td>https://cdn.homeshopping.pk/product_images/l/3...</td>\n",
       "    </tr>\n",
       "  </tbody>\n",
       "</table>\n",
       "</div>"
      ],
      "text/plain": [
       "        ID                                               Name       Price  \\\n",
       "0   349435  Tecno Spark Go 2024 (4G 4GB 64GB Magic Skin) W...   Rs 23,999   \n",
       "1   347821  Dcode Cygnal 3 (4G 4GB 64GB Berry Purple) With...   Rs 20,999   \n",
       "2   347065  Tecno Pop 7 (4G 2GB 64GB Capri Blue) - With Of...   Rs 19,399   \n",
       "3   350415  Tecno Spark 20 Pro (4G 8GB 256GB Sunset Blush)...   Rs 39,499   \n",
       "4   347394  Infinix Smart 7 HD (4G 2GB 64GB Silk Blue) - W...   Rs 19,499   \n",
       "5   349432  Tecno Spark Go 2024 (4G 4GB 64GB Mystery White...   Rs 23,999   \n",
       "6   345670  Xiaomi Redmi Note 12 (4G 8GB 128GB Mint Green)...   Rs 43,499   \n",
       "7   347533  Samsung Galaxy A34 (5G 8GB 256GB Awesome Graph...   Rs 87,499   \n",
       "8   349257  Xiaomi Redmi 13C (4G 6GB 128GB Clover Green) W...   Rs 31,499   \n",
       "9   345563  Infinix Smart 7 (4G 4GB 64GB Peacock Blue) - W...   Rs 25,699   \n",
       "10  349258  Xiaomi Redmi 13C (4G 6GB 128GB Glacier White) ...   Rs 31,499   \n",
       "11  342738  Vivo Y22 (4G 4GB 64GB Blue) With Official Warr...   Rs 33,090   \n",
       "12  348247  Infinix Hot 30 (4G 8GB 128GB Sonic White) With...   Rs 32,499   \n",
       "13  349653  Infinix Hot 40i (4G 8GB 128GB Starlit Black) W...   Rs 29,999   \n",
       "14  349467  Infinix Hot 40 (4G 8GB 256GB Starlit Black) Wi...   Rs 35,999   \n",
       "15  350402  Realme Note 50 (4G 4GB 64GB Midnight Black) Wi...   Rs 24,499   \n",
       "16  349506  Tecno Spark 20 (4G 8GB 256GB Neon Gold) With O...   Rs 33,999   \n",
       "17  349532  Infinix Smart 8 Plus (4G 4GB 64GB Timber Black...   Rs 24,699   \n",
       "18  349988  Samsung Galaxy A15 (4G 8GB 256GB Light Blue) W...   Rs 56,499   \n",
       "19  350559  Xiaomi Redmi A3 (4G 4GB 64GB Olive Green) With...   Rs 22,699   \n",
       "20  343256  Vivo Y16 (4G 4GB 64GB Stellar Black) - With Of...   Rs 33,999   \n",
       "21  349466  Infinix Smart 8 Plus (4G 4GB 64GB Galaxy White...   Rs 24,499   \n",
       "22  344188  OnePlus Ace 2 (5G 12GB 256GB Glacier Blue) - N...  Rs 133,999   \n",
       "23  349468  Infinix Hot 40 (4G 8GB 256GB Horizon Gold) Wit...   Rs 35,999   \n",
       "\n",
       "                                                  URL  \\\n",
       "0   https://homeshopping.pk/products/Tecno-Spark-G...   \n",
       "1   https://homeshopping.pk/products/Dcode-Cygnal-...   \n",
       "2   https://homeshopping.pk/products/Tecno-Pop-7-4...   \n",
       "3   https://homeshopping.pk/products/Tecno-Spark-2...   \n",
       "4   https://homeshopping.pk/products/Infinix-Smart...   \n",
       "5   https://homeshopping.pk/products/Tecno-Spark-G...   \n",
       "6   https://homeshopping.pk/products/Xiaomi-Redmi-...   \n",
       "7   https://homeshopping.pk/products/Samsung-Galax...   \n",
       "8   https://homeshopping.pk/products/Xiaomi-Redmi-...   \n",
       "9   https://homeshopping.pk/products/Infinix-Smart...   \n",
       "10  https://homeshopping.pk/products/Xiaomi-Redmi-...   \n",
       "11  https://homeshopping.pk/products/Vivo-Y22-4G-4...   \n",
       "12  https://homeshopping.pk/products/Infinix-Hot-3...   \n",
       "13  https://homeshopping.pk/products/Infinix-Hot-4...   \n",
       "14  https://homeshopping.pk/products/Infinix-Hot-4...   \n",
       "15  https://homeshopping.pk/products/Realme-Note-5...   \n",
       "16  https://homeshopping.pk/products/Tecno-Spark-2...   \n",
       "17  https://homeshopping.pk/products/Infinix-Smart...   \n",
       "18  https://homeshopping.pk/products/Samsung-Galax...   \n",
       "19  https://homeshopping.pk/products/Xiaomi-Redmi-...   \n",
       "20  https://homeshopping.pk/products/Vivo-Y16-4G-4...   \n",
       "21  https://homeshopping.pk/products/Infinix-Smart...   \n",
       "22  https://homeshopping.pk/products/OnePlus-Ace-2...   \n",
       "23  https://homeshopping.pk/products/Infinix-Hot-4...   \n",
       "\n",
       "                                                  IMG  \n",
       "0   https://cdn.homeshopping.pk/product_images/s/6...  \n",
       "1   https://cdn.homeshopping.pk/product_images/t/9...  \n",
       "2   https://cdn.homeshopping.pk/product_images/y/8...  \n",
       "3   https://cdn.homeshopping.pk/product_images/c/4...  \n",
       "4   https://cdn.homeshopping.pk/product_images/v/3...  \n",
       "5   https://cdn.homeshopping.pk/product_images/r/8...  \n",
       "6   https://cdn.homeshopping.pk/product_images/s/1...  \n",
       "7   https://cdn.homeshopping.pk/product_images/f/0...  \n",
       "8   https://cdn.homeshopping.pk/product_images/i/0...  \n",
       "9   https://cdn.homeshopping.pk/product_images/k/4...  \n",
       "10  https://cdn.homeshopping.pk/product_images/w/7...  \n",
       "11  https://cdn.homeshopping.pk/product_images/v/1...  \n",
       "12  https://cdn.homeshopping.pk/product_images/h/0...  \n",
       "13  https://cdn.homeshopping.pk/product_images/m/9...  \n",
       "14  https://cdn.homeshopping.pk/product_images/i/2...  \n",
       "15  https://cdn.homeshopping.pk/product_images/o/9...  \n",
       "16  https://cdn.homeshopping.pk/product_images/r/0...  \n",
       "17  https://cdn.homeshopping.pk/product_images/y/3...  \n",
       "18  https://cdn.homeshopping.pk/product_images/s/5...  \n",
       "19  https://cdn.homeshopping.pk/product_images/c/2...  \n",
       "20  https://cdn.homeshopping.pk/product_images/r/3...  \n",
       "21  https://cdn.homeshopping.pk/product_images/v/7...  \n",
       "22  https://cdn.homeshopping.pk/product_images/q/6...  \n",
       "23  https://cdn.homeshopping.pk/product_images/l/3...  "
      ]
     },
     "execution_count": 35,
     "metadata": {},
     "output_type": "execute_result"
    }
   ],
   "source": [
    "product_data"
   ]
  },
  {
   "cell_type": "code",
   "execution_count": 36,
   "id": "c4c78477-58e9-43d8-94db-9b197c5b8b8b",
   "metadata": {},
   "outputs": [],
   "source": [
    "product_data.to_csv('product_data.csv')"
   ]
  },
  {
   "cell_type": "code",
   "execution_count": null,
   "id": "89f6a808-e6dc-42a6-81fc-9aac4241e007",
   "metadata": {},
   "outputs": [],
   "source": []
  }
 ],
 "metadata": {
  "kernelspec": {
   "display_name": "Python 3 (ipykernel)",
   "language": "python",
   "name": "python3"
  },
  "language_info": {
   "codemirror_mode": {
    "name": "ipython",
    "version": 3
   },
   "file_extension": ".py",
   "mimetype": "text/x-python",
   "name": "python",
   "nbconvert_exporter": "python",
   "pygments_lexer": "ipython3",
   "version": "3.12.4"
  }
 },
 "nbformat": 4,
 "nbformat_minor": 5
}
